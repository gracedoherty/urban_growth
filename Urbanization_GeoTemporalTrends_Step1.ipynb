{
 "cells": [
  {
   "cell_type": "markdown",
   "id": "0f2016b3",
   "metadata": {},
   "source": [
    "# Geotemporal Trends in Urbanization: Cameroon\n",
    "*Using yearly estimates (2000-2015) of population, built-area, and economic indicators to track city-by-city growth and change over time.*"
   ]
  },
  {
   "cell_type": "markdown",
   "id": "85fd14a1",
   "metadata": {},
   "source": [
    "---"
   ]
  },
  {
   "cell_type": "markdown",
   "id": "903293ba",
   "metadata": {},
   "source": [
    "## Research questions \n",
    "\n",
    "#### 1. How has the size of Settlement X changed over time? \n",
    "\n",
    "- Population size \n",
    "\n",
    "- Geographical extents \n",
    "\n",
    "- Population density \n",
    "\n",
    "#### 2. In what year did Settlement X become a new urban class?  \n",
    "\n",
    "- From semi-dense to high-density city \n",
    "\n",
    "- Small settlement area to built-up area \n",
    "\n",
    "- When a hamlet area or small settlement area first appeared\n",
    "\n",
    "#### 3. Is there a discernable pattern between the spatio-temporal distribution of economic density and population density? \n",
    "\n",
    "#### 4. How much of urban space attributable to City X is outside of the administrative limits of the city? \n",
    "\n",
    "- When did this fragment(s) appear? \n",
    "\n",
    "- Which district/municipality/authority has purview over the fragment(s)? \n",
    "\n",
    "#### 5. For the questions above, how does the answer change based on different understandings of urban limits? \n",
    "\n",
    "- Scenario A: where \"city\" is delimited by an official administrative boundary \n",
    "\n",
    "- Scenario B: where \"city\" includes all contiguous (and near-contiguous) built up area \n",
    "\n",
    "#### 6. Subnational and inter-national comparisons. Examples: \n",
    "\n",
    "- Compare the rates (pop, build-up, economic…) of the fastest growing settlement of each ADM1 region. \n",
    "\n",
    "- Which African metropoles experience the most vs. the least fragmentation? Is there a confluence between amount of urban fragmentation and rate of densification? "
   ]
  },
  {
   "cell_type": "markdown",
   "id": "0cc5dafb",
   "metadata": {},
   "source": [
    "---"
   ]
  },
  {
   "cell_type": "markdown",
   "id": "0e55d1a9",
   "metadata": {},
   "source": [
    "## Datasets\n",
    "1. Most up-to-date administrative boundaries: **ADM3.**\n",
    "2. Built-up area, yearly: **World Settlement Footprint Evolution.** Resolution: 30m. \n",
    "3. Settlement types: **GRID3 settlement extents.** Captured between 2009-2019.\n",
    "4. Population, yearly: **WorldPop.** UN-adjusted, unconstrained. Resolution: 100m.\n",
    "5. Nighttime lights, yearly: **Harmonization of DMSP and VIIRS.** Resolution: 1km.\n",
    "6. City names: **UCDB, Africapolis, and GeoNames.**"
   ]
  },
  {
   "cell_type": "markdown",
   "id": "1d8644be",
   "metadata": {},
   "source": [
    "---"
   ]
  },
  {
   "cell_type": "markdown",
   "id": "1724ffa6",
   "metadata": {},
   "source": [
    "## Joining primary datasets together in raster and vector space. (current notebook)"
   ]
  },
  {
   "cell_type": "markdown",
   "id": "7a676eff",
   "metadata": {},
   "source": [
    "### 1. PREPARE WORKSPACE"
   ]
  },
  {
   "cell_type": "code",
   "execution_count": 2,
   "id": "d3b76a42",
   "metadata": {
    "collapsed": true
   },
   "outputs": [
    {
     "name": "stdout",
     "output_type": "stream",
     "text": [
      "Collecting dea-tools\n",
      "  Downloading dea_tools-0.2.7-py3-none-any.whl (143 kB)\n",
      "     -------------------------------------- 143.9/143.9 kB 1.1 MB/s eta 0:00:00\n",
      "Collecting odc-ui\n",
      "  Downloading odc_ui-0.2.0a3-py3-none-any.whl (15 kB)\n",
      "Requirement already satisfied: matplotlib in c:\\users\\grace\\miniconda3\\envs\\geo\\lib\\site-packages (from dea-tools) (3.5.3)\n",
      "Requirement already satisfied: branca in c:\\users\\grace\\miniconda3\\envs\\geo\\lib\\site-packages (from dea-tools) (0.5.0)\n",
      "Requirement already satisfied: pyproj in c:\\users\\grace\\miniconda3\\envs\\geo\\lib\\site-packages (from dea-tools) (3.4.0)\n",
      "Requirement already satisfied: GDAL in c:\\users\\grace\\miniconda3\\envs\\geo\\lib\\site-packages (from dea-tools) (3.5.2)\n",
      "Requirement already satisfied: rasterio in c:\\users\\grace\\miniconda3\\envs\\geo\\lib\\site-packages (from dea-tools) (1.3.2)\n",
      "Collecting OWSLib\n",
      "  Using cached OWSLib-0.27.2-py2.py3-none-any.whl (218 kB)\n",
      "Requirement already satisfied: geopandas in c:\\users\\grace\\miniconda3\\envs\\geo\\lib\\site-packages (from dea-tools) (0.11.1)\n",
      "Requirement already satisfied: scikit-learn in c:\\users\\grace\\miniconda3\\envs\\geo\\lib\\site-packages (from dea-tools) (1.1.2)\n",
      "Collecting rasterstats\n",
      "  Using cached rasterstats-0.17.0-py3-none-any.whl (16 kB)\n",
      "Requirement already satisfied: pandas in c:\\users\\grace\\miniconda3\\envs\\geo\\lib\\site-packages (from dea-tools) (1.4.4)\n",
      "Requirement already satisfied: scipy in c:\\users\\grace\\miniconda3\\envs\\geo\\lib\\site-packages (from dea-tools) (1.9.1)\n",
      "Collecting tqdm\n",
      "  Using cached tqdm-4.64.1-py2.py3-none-any.whl (78 kB)\n",
      "Requirement already satisfied: shapely in c:\\users\\grace\\miniconda3\\envs\\geo\\lib\\site-packages (from dea-tools) (1.8.4)\n",
      "Collecting geopy\n",
      "  Using cached geopy-2.2.0-py3-none-any.whl (118 kB)\n",
      "Requirement already satisfied: requests in c:\\users\\grace\\miniconda3\\envs\\geo\\lib\\site-packages (from dea-tools) (2.28.1)\n",
      "Requirement already satisfied: dask in c:\\users\\grace\\miniconda3\\envs\\geo\\lib\\site-packages (from dea-tools) (2022.9.2)\n",
      "Requirement already satisfied: lxml in c:\\users\\grace\\miniconda3\\envs\\geo\\lib\\site-packages (from dea-tools) (4.9.1)\n",
      "Requirement already satisfied: xarray in c:\\users\\grace\\miniconda3\\envs\\geo\\lib\\site-packages (from dea-tools) (2022.9.1.dev3+g341f1302)\n",
      "Collecting datacube\n",
      "  Downloading datacube-1.8.8-py2.py3-none-any.whl (351 kB)\n",
      "     -------------------------------------- 351.4/351.4 kB 2.7 MB/s eta 0:00:00\n",
      "Collecting numexpr\n",
      "  Using cached numexpr-2.8.3-cp310-cp310-win_amd64.whl (92 kB)\n",
      "Requirement already satisfied: folium in c:\\users\\grace\\miniconda3\\envs\\geo\\lib\\site-packages (from dea-tools) (0.12.1.post1)\n",
      "Collecting scikit-image\n",
      "  Using cached scikit_image-0.19.3-cp310-cp310-win_amd64.whl (12.0 MB)\n",
      "Requirement already satisfied: python-dateutil in c:\\users\\grace\\miniconda3\\envs\\geo\\lib\\site-packages (from dea-tools) (2.8.2)\n",
      "Collecting ciso8601\n",
      "  Downloading ciso8601-2.2.0.tar.gz (18 kB)\n",
      "  Installing build dependencies: started\n",
      "  Installing build dependencies: finished with status 'done'\n",
      "  Getting requirements to build wheel: started\n",
      "  Getting requirements to build wheel: finished with status 'done'\n",
      "  Preparing metadata (pyproject.toml): started\n",
      "  Preparing metadata (pyproject.toml): finished with status 'done'\n",
      "Requirement already satisfied: numpy in c:\\users\\grace\\miniconda3\\envs\\geo\\lib\\site-packages (from dea-tools) (1.23.3)\n",
      "Requirement already satisfied: pytz in c:\\users\\grace\\miniconda3\\envs\\geo\\lib\\site-packages (from dea-tools) (2022.2.1)\n",
      "Requirement already satisfied: jinja2 in c:\\users\\grace\\miniconda3\\envs\\geo\\lib\\site-packages (from branca->dea-tools) (3.1.2)\n",
      "Requirement already satisfied: cloudpickle>=1.1.1 in c:\\users\\grace\\miniconda3\\envs\\geo\\lib\\site-packages (from dask->dea-tools) (2.2.0)\n",
      "Requirement already satisfied: toolz>=0.8.2 in c:\\users\\grace\\miniconda3\\envs\\geo\\lib\\site-packages (from dask->dea-tools) (0.12.0)\n",
      "Requirement already satisfied: partd>=0.3.10 in c:\\users\\grace\\miniconda3\\envs\\geo\\lib\\site-packages (from dask->dea-tools) (1.3.0)\n",
      "Requirement already satisfied: packaging>=20.0 in c:\\users\\grace\\miniconda3\\envs\\geo\\lib\\site-packages (from dask->dea-tools) (21.3)\n",
      "Requirement already satisfied: pyyaml>=5.3.1 in c:\\users\\grace\\miniconda3\\envs\\geo\\lib\\site-packages (from dask->dea-tools) (6.0)\n",
      "Requirement already satisfied: fsspec>=0.6.0 in c:\\users\\grace\\miniconda3\\envs\\geo\\lib\\site-packages (from dask->dea-tools) (2022.8.2)\n",
      "Collecting cachetools\n",
      "  Using cached cachetools-5.2.0-py3-none-any.whl (9.3 kB)\n",
      "Collecting netcdf4\n",
      "  Using cached netCDF4-1.6.1-cp310-cp310-win_amd64.whl (5.2 MB)\n",
      "Collecting GeoAlchemy2\n",
      "  Using cached GeoAlchemy2-0.12.5-py2.py3-none-any.whl (50 kB)\n",
      "Requirement already satisfied: click>=5.0 in c:\\users\\grace\\miniconda3\\envs\\geo\\lib\\site-packages (from datacube->dea-tools) (8.1.3)\n",
      "Requirement already satisfied: affine in c:\\users\\grace\\miniconda3\\envs\\geo\\lib\\site-packages (from datacube->dea-tools) (2.3.1)\n",
      "Requirement already satisfied: distributed in c:\\users\\grace\\miniconda3\\envs\\geo\\lib\\site-packages (from datacube->dea-tools) (2022.9.2)\n",
      "Collecting psycopg2\n",
      "  Using cached psycopg2-2.9.4-cp310-cp310-win_amd64.whl (1.2 MB)\n",
      "Collecting lark\n",
      "  Using cached lark-1.1.2-py2.py3-none-any.whl (104 kB)\n",
      "Collecting sqlalchemy\n",
      "  Using cached SQLAlchemy-1.4.41-cp310-cp310-win_amd64.whl (1.6 MB)\n",
      "Requirement already satisfied: jsonschema in c:\\users\\grace\\miniconda3\\envs\\geo\\lib\\site-packages (from datacube->dea-tools) (4.16.0)\n",
      "Requirement already satisfied: certifi in c:\\users\\grace\\miniconda3\\envs\\geo\\lib\\site-packages (from pyproj->dea-tools) (2022.9.14)\n",
      "Requirement already satisfied: setuptools in c:\\users\\grace\\miniconda3\\envs\\geo\\lib\\site-packages (from rasterio->dea-tools) (59.8.0)\n",
      "Requirement already satisfied: attrs in c:\\users\\grace\\miniconda3\\envs\\geo\\lib\\site-packages (from rasterio->dea-tools) (22.1.0)\n",
      "Requirement already satisfied: snuggs>=1.4.1 in c:\\users\\grace\\miniconda3\\envs\\geo\\lib\\site-packages (from rasterio->dea-tools) (1.4.7)\n",
      "Requirement already satisfied: cligj>=0.5 in c:\\users\\grace\\miniconda3\\envs\\geo\\lib\\site-packages (from rasterio->dea-tools) (0.7.2)\n",
      "Requirement already satisfied: click-plugins in c:\\users\\grace\\miniconda3\\envs\\geo\\lib\\site-packages (from rasterio->dea-tools) (1.1.1)\n",
      "Requirement already satisfied: six>=1.5 in c:\\users\\grace\\miniconda3\\envs\\geo\\lib\\site-packages (from python-dateutil->dea-tools) (1.16.0)\n",
      "Requirement already satisfied: fiona>=1.8 in c:\\users\\grace\\miniconda3\\envs\\geo\\lib\\site-packages (from geopandas->dea-tools) (1.8.21)\n",
      "Collecting geographiclib<2,>=1.49\n",
      "  Using cached geographiclib-1.52-py3-none-any.whl (38 kB)\n",
      "Requirement already satisfied: cycler>=0.10 in c:\\users\\grace\\miniconda3\\envs\\geo\\lib\\site-packages (from matplotlib->dea-tools) (0.11.0)\n",
      "Requirement already satisfied: pillow>=6.2.0 in c:\\users\\grace\\miniconda3\\envs\\geo\\lib\\site-packages (from matplotlib->dea-tools) (9.2.0)\n",
      "Requirement already satisfied: pyparsing>=2.2.1 in c:\\users\\grace\\miniconda3\\envs\\geo\\lib\\site-packages (from matplotlib->dea-tools) (3.0.9)\n",
      "Requirement already satisfied: kiwisolver>=1.0.1 in c:\\users\\grace\\miniconda3\\envs\\geo\\lib\\site-packages (from matplotlib->dea-tools) (1.4.4)\n",
      "Requirement already satisfied: fonttools>=4.22.0 in c:\\users\\grace\\miniconda3\\envs\\geo\\lib\\site-packages (from matplotlib->dea-tools) (4.37.1)\n",
      "Collecting jupyter-ui-poll\n",
      "  Using cached jupyter_ui_poll-0.2.1-py2.py3-none-any.whl (9.0 kB)\n",
      "Collecting ipywidgets\n",
      "  Using cached ipywidgets-8.0.2-py3-none-any.whl (134 kB)\n",
      "Requirement already satisfied: ipython in c:\\users\\grace\\miniconda3\\envs\\geo\\lib\\site-packages (from odc-ui->dea-tools) (8.5.0)\n",
      "Collecting ipyleaflet\n",
      "  Using cached ipyleaflet-0.17.1-py3-none-any.whl (3.4 MB)\n",
      "Collecting odc-algo\n",
      "  Using cached odc_algo-0.2.2-py3-none-any.whl (51 kB)\n",
      "Requirement already satisfied: idna<4,>=2.5 in c:\\users\\grace\\miniconda3\\envs\\geo\\lib\\site-packages (from requests->dea-tools) (3.3)\n",
      "Requirement already satisfied: charset-normalizer<3,>=2 in c:\\users\\grace\\miniconda3\\envs\\geo\\lib\\site-packages (from requests->dea-tools) (2.1.1)\n",
      "Requirement already satisfied: urllib3<1.27,>=1.21.1 in c:\\users\\grace\\miniconda3\\envs\\geo\\lib\\site-packages (from requests->dea-tools) (1.26.11)\n",
      "Collecting simplejson\n",
      "  Using cached simplejson-3.17.6-cp310-cp310-win_amd64.whl (75 kB)\n",
      "Requirement already satisfied: networkx>=2.2 in c:\\users\\grace\\miniconda3\\envs\\geo\\lib\\site-packages (from scikit-image->dea-tools) (2.8.6)\n",
      "Collecting tifffile>=2019.7.26\n",
      "  Using cached tifffile-2022.8.12-py3-none-any.whl (208 kB)\n",
      "Collecting PyWavelets>=1.1.1\n",
      "  Using cached PyWavelets-1.4.1-cp310-cp310-win_amd64.whl (4.2 MB)\n",
      "Collecting imageio>=2.4.1\n",
      "  Using cached imageio-2.22.1-py3-none-any.whl (3.4 MB)\n",
      "Requirement already satisfied: threadpoolctl>=2.0.0 in c:\\users\\grace\\miniconda3\\envs\\geo\\lib\\site-packages (from scikit-learn->dea-tools) (3.1.0)\n",
      "Requirement already satisfied: joblib>=1.0.0 in c:\\users\\grace\\miniconda3\\envs\\geo\\lib\\site-packages (from scikit-learn->dea-tools) (1.1.0)\n",
      "Requirement already satisfied: colorama in c:\\users\\grace\\miniconda3\\envs\\geo\\lib\\site-packages (from tqdm->dea-tools) (0.4.5)\n",
      "Requirement already satisfied: munch in c:\\users\\grace\\miniconda3\\envs\\geo\\lib\\site-packages (from fiona>=1.8->geopandas->dea-tools) (2.5.0)\n",
      "Requirement already satisfied: MarkupSafe>=2.0 in c:\\users\\grace\\miniconda3\\envs\\geo\\lib\\site-packages (from jinja2->branca->dea-tools) (2.1.1)\n",
      "Requirement already satisfied: locket in c:\\users\\grace\\miniconda3\\envs\\geo\\lib\\site-packages (from partd>=0.3.10->dask->dea-tools) (1.0.0)\n",
      "Requirement already satisfied: tblib>=1.6.0 in c:\\users\\grace\\miniconda3\\envs\\geo\\lib\\site-packages (from distributed->datacube->dea-tools) (1.7.0)\n",
      "Requirement already satisfied: psutil>=5.0 in c:\\users\\grace\\miniconda3\\envs\\geo\\lib\\site-packages (from distributed->datacube->dea-tools) (5.9.2)\n",
      "Requirement already satisfied: tornado<6.2,>=6.0.3 in c:\\users\\grace\\miniconda3\\envs\\geo\\lib\\site-packages (from distributed->datacube->dea-tools) (6.1)\n",
      "Requirement already satisfied: zict>=0.1.3 in c:\\users\\grace\\miniconda3\\envs\\geo\\lib\\site-packages (from distributed->datacube->dea-tools) (2.2.0)\n",
      "Requirement already satisfied: sortedcontainers!=2.0.0,!=2.0.1 in c:\\users\\grace\\miniconda3\\envs\\geo\\lib\\site-packages (from distributed->datacube->dea-tools) (2.4.0)\n",
      "Requirement already satisfied: msgpack>=0.6.0 in c:\\users\\grace\\miniconda3\\envs\\geo\\lib\\site-packages (from distributed->datacube->dea-tools) (1.0.4)\n",
      "Collecting greenlet!=0.4.17\n",
      "  Using cached greenlet-1.1.3-cp310-cp310-win_amd64.whl (101 kB)\n",
      "Requirement already satisfied: xyzservices>=2021.8.1 in c:\\users\\grace\\miniconda3\\envs\\geo\\lib\\site-packages (from ipyleaflet->odc-ui->dea-tools) (2022.6.0)\n",
      "Collecting traittypes<3,>=0.2.1\n",
      "  Using cached traittypes-0.2.1-py2.py3-none-any.whl (8.6 kB)\n",
      "Requirement already satisfied: traitlets>=4.3.1 in c:\\users\\grace\\miniconda3\\envs\\geo\\lib\\site-packages (from ipywidgets->odc-ui->dea-tools) (5.4.0)\n",
      "Collecting jupyterlab-widgets~=3.0\n",
      "  Using cached jupyterlab_widgets-3.0.3-py3-none-any.whl (384 kB)\n",
      "Requirement already satisfied: ipykernel>=4.5.1 in c:\\users\\grace\\miniconda3\\envs\\geo\\lib\\site-packages (from ipywidgets->odc-ui->dea-tools) (6.15.3)\n",
      "Collecting widgetsnbextension~=4.0\n",
      "  Using cached widgetsnbextension-4.0.3-py3-none-any.whl (2.0 MB)\n",
      "Requirement already satisfied: backcall in c:\\users\\grace\\miniconda3\\envs\\geo\\lib\\site-packages (from ipython->odc-ui->dea-tools) (0.2.0)\n",
      "Requirement already satisfied: jedi>=0.16 in c:\\users\\grace\\miniconda3\\envs\\geo\\lib\\site-packages (from ipython->odc-ui->dea-tools) (0.18.1)\n",
      "Requirement already satisfied: stack-data in c:\\users\\grace\\miniconda3\\envs\\geo\\lib\\site-packages (from ipython->odc-ui->dea-tools) (0.5.0)\n",
      "Requirement already satisfied: pickleshare in c:\\users\\grace\\miniconda3\\envs\\geo\\lib\\site-packages (from ipython->odc-ui->dea-tools) (0.7.5)\n",
      "Requirement already satisfied: prompt-toolkit<3.1.0,>3.0.1 in c:\\users\\grace\\miniconda3\\envs\\geo\\lib\\site-packages (from ipython->odc-ui->dea-tools) (3.0.31)\n",
      "Requirement already satisfied: pygments>=2.4.0 in c:\\users\\grace\\miniconda3\\envs\\geo\\lib\\site-packages (from ipython->odc-ui->dea-tools) (2.13.0)\n",
      "Requirement already satisfied: matplotlib-inline in c:\\users\\grace\\miniconda3\\envs\\geo\\lib\\site-packages (from ipython->odc-ui->dea-tools) (0.1.6)\n",
      "Requirement already satisfied: decorator in c:\\users\\grace\\miniconda3\\envs\\geo\\lib\\site-packages (from ipython->odc-ui->dea-tools) (5.1.1)\n",
      "Requirement already satisfied: pyrsistent!=0.17.0,!=0.17.1,!=0.17.2,>=0.14.0 in c:\\users\\grace\\miniconda3\\envs\\geo\\lib\\site-packages (from jsonschema->datacube->dea-tools) (0.18.1)\n",
      "Requirement already satisfied: pyzmq in c:\\users\\grace\\miniconda3\\envs\\geo\\lib\\site-packages (from jupyter-ui-poll->odc-ui->dea-tools) (23.2.1)\n",
      "Collecting cftime\n",
      "  Using cached cftime-1.6.2-cp310-cp310-win_amd64.whl (162 kB)\n",
      "Collecting dask-image\n",
      "  Using cached dask_image-2022.9.0-py2.py3-none-any.whl\n",
      "Requirement already satisfied: debugpy>=1.0 in c:\\users\\grace\\miniconda3\\envs\\geo\\lib\\site-packages (from ipykernel>=4.5.1->ipywidgets->odc-ui->dea-tools) (1.6.3)\n",
      "Requirement already satisfied: nest-asyncio in c:\\users\\grace\\miniconda3\\envs\\geo\\lib\\site-packages (from ipykernel>=4.5.1->ipywidgets->odc-ui->dea-tools) (1.5.5)\n",
      "Requirement already satisfied: jupyter-client>=6.1.12 in c:\\users\\grace\\miniconda3\\envs\\geo\\lib\\site-packages (from ipykernel>=4.5.1->ipywidgets->odc-ui->dea-tools) (7.3.5)\n",
      "Requirement already satisfied: parso<0.9.0,>=0.8.0 in c:\\users\\grace\\miniconda3\\envs\\geo\\lib\\site-packages (from jedi>=0.16->ipython->odc-ui->dea-tools) (0.8.3)\n",
      "Requirement already satisfied: wcwidth in c:\\users\\grace\\miniconda3\\envs\\geo\\lib\\site-packages (from prompt-toolkit<3.1.0,>3.0.1->ipython->odc-ui->dea-tools) (0.2.5)\n",
      "Requirement already satisfied: heapdict in c:\\users\\grace\\miniconda3\\envs\\geo\\lib\\site-packages (from zict>=0.1.3->distributed->datacube->dea-tools) (1.0.1)\n",
      "Collecting pims>=0.4.1\n",
      "  Using cached PIMS-0.6.1-py3-none-any.whl\n",
      "Requirement already satisfied: executing in c:\\users\\grace\\miniconda3\\envs\\geo\\lib\\site-packages (from stack-data->ipython->odc-ui->dea-tools) (1.0.0)\n",
      "Requirement already satisfied: asttokens in c:\\users\\grace\\miniconda3\\envs\\geo\\lib\\site-packages (from stack-data->ipython->odc-ui->dea-tools) (2.0.8)\n",
      "Requirement already satisfied: pure-eval in c:\\users\\grace\\miniconda3\\envs\\geo\\lib\\site-packages (from stack-data->ipython->odc-ui->dea-tools) (0.2.2)\n",
      "Requirement already satisfied: jupyter-core>=4.9.2 in c:\\users\\grace\\miniconda3\\envs\\geo\\lib\\site-packages (from jupyter-client>=6.1.12->ipykernel>=4.5.1->ipywidgets->odc-ui->dea-tools) (4.11.1)\n",
      "Requirement already satisfied: entrypoints in c:\\users\\grace\\miniconda3\\envs\\geo\\lib\\site-packages (from jupyter-client>=6.1.12->ipykernel>=4.5.1->ipywidgets->odc-ui->dea-tools) (0.4)\n",
      "Collecting jupyter-client>=6.1.12\n",
      "  Using cached jupyter_client-7.3.4-py3-none-any.whl (132 kB)\n",
      "Collecting slicerator>=0.9.8\n",
      "  Using cached slicerator-1.1.0-py3-none-any.whl (10 kB)\n",
      "Requirement already satisfied: pywin32>=1.0 in c:\\users\\grace\\miniconda3\\envs\\geo\\lib\\site-packages (from jupyter-core>=4.9.2->jupyter-client>=6.1.12->ipykernel>=4.5.1->ipywidgets->odc-ui->dea-tools) (303)\n",
      "Building wheels for collected packages: ciso8601\n",
      "  Building wheel for ciso8601 (pyproject.toml): started\n",
      "  Building wheel for ciso8601 (pyproject.toml): finished with status 'error'\n",
      "Failed to build ciso8601\n"
     ]
    },
    {
     "name": "stderr",
     "output_type": "stream",
     "text": [
      "  error: subprocess-exited-with-error\n",
      "  \n",
      "  Building wheel for ciso8601 (pyproject.toml) did not run successfully.\n",
      "  exit code: 1\n",
      "  \n",
      "  [11 lines of output]\n",
      "  running bdist_wheel\n",
      "  running build\n",
      "  running build_py\n",
      "  creating build\n",
      "  creating build\\lib.win-amd64-cpython-310\n",
      "  creating build\\lib.win-amd64-cpython-310\\ciso8601\n",
      "  copying ciso8601\\__init__.pyi -> build\\lib.win-amd64-cpython-310\\ciso8601\n",
      "  copying ciso8601\\py.typed -> build\\lib.win-amd64-cpython-310\\ciso8601\n",
      "  running build_ext\n",
      "  building 'ciso8601' extension\n",
      "  error: Microsoft Visual C++ 14.0 or greater is required. Get it with \"Microsoft C++ Build Tools\": https://visualstudio.microsoft.com/visual-cpp-build-tools/\n",
      "  [end of output]\n",
      "  \n",
      "  note: This error originates from a subprocess, and is likely not a problem with pip.\n",
      "  ERROR: Failed building wheel for ciso8601\n",
      "ERROR: Could not build wheels for ciso8601, which is required to install pyproject.toml-based projects\n"
     ]
    }
   ],
   "source": [
    "# Installs\n",
    "\n",
    "#import sys\n",
    "#!{sys.executable} -m pip install voronoi-diagram-for-polygons xarray-spatial rioxarray pygeos\n",
    "\n",
    "#!{sys.executable} -m pip install --user --upgrade pygeos"
   ]
  },
  {
   "cell_type": "code",
   "execution_count": 1,
   "id": "afde6895",
   "metadata": {},
   "outputs": [],
   "source": [
    "# Note: Not all of these packages were used in final form. \n",
    "\n",
    "import os, sys\n",
    "import glob\n",
    "import re\n",
    "import time\n",
    "\n",
    "import geopandas as gpd \n",
    "import pandas as pd\n",
    "from shapely.geometry import Point, LineString, Polygon, shape\n",
    "from shapely.ops import voronoi_diagram\n",
    "from shapely.validation import make_valid\n",
    "from longsgis import voronoiDiagram4plg \n",
    "import fiona\n",
    "\n",
    "from xrspatial import zonal_stats \n",
    "import xarray as xr \n",
    "import rasterio \n",
    "from rasterio.plot import show\n",
    "from rasterio import features\n",
    "from rasterio.features import shapes\n",
    "import rioxarray \n",
    "from osgeo import gdal\n",
    "from osgeo import gdal_array\n",
    "from osgeo import ogr\n",
    "import matplotlib.pyplot as plt\n",
    "import numpy as np\n",
    "\n",
    "# import deafrica_tools\n",
    "# from deafrica_tools.datahandling import mostcommon_crs\n",
    "# from deafrica_tools.spatial import xr_vectorize, xr_rasterize"
   ]
  },
  {
   "cell_type": "code",
   "execution_count": 2,
   "id": "a20dfb25",
   "metadata": {},
   "outputs": [
    {
     "name": "stdout",
     "output_type": "stream",
     "text": [
      "C:\\Users\\grace\\GIS\\povertyequity\\urban_growth\n"
     ]
    }
   ],
   "source": [
    "ProjectFolder = os.getcwd()\n",
    "print(ProjectFolder)"
   ]
  },
  {
   "cell_type": "markdown",
   "id": "5253dfb8",
   "metadata": {},
   "source": [
    "### 2. DATA PREP\n",
    "Projection for all datasets: Africa Albers Equal Area Conic\n",
    "\n",
    "Remove unnecessary fields (e.g. extra fields in gazetteer data)"
   ]
  },
  {
   "cell_type": "markdown",
   "id": "ce096418",
   "metadata": {},
   "source": [
    "##### WSFE"
   ]
  },
  {
   "cell_type": "code",
   "execution_count": 3,
   "id": "bb6bb5bf",
   "metadata": {},
   "outputs": [
    {
     "name": "stdout",
     "output_type": "stream",
     "text": [
      "99999.0\n"
     ]
    }
   ],
   "source": [
    "test = gdal.Open(\"C:/Users/grace/GIS/povertyequity/urban_growth/WSFE_TCD.tif\")\n",
    "print(test.GetRasterBand(1).GetNoDataValue()) # What is NoData currently? We might want to change it before using this file as the archetype for other rasterized files.\n",
    "test = None"
   ]
  },
  {
   "cell_type": "markdown",
   "id": "ca5218ff",
   "metadata": {},
   "source": [
    "*Assigning NoData values (0 for each dataset) so that we can ignore them later with vectorizing.*"
   ]
  },
  {
   "cell_type": "code",
   "execution_count": null,
   "id": "bb78acae",
   "metadata": {},
   "outputs": [],
   "source": [
    "# # OPEN QGIS FOR THIS PORTION. CODE DOCUMENTED HERE.\n",
    "# Change NoData value to zero, as this won't interfere with a possible value of 99999 in GRID3 and ADM.\n",
    "# Then make sure there are no values above 2015 (such as 99999) or below 1985 in the dataset by reclassifying them as NoData.\n",
    "# Was having trouble with rasterio & gdal here, so moved to QGIS.\n",
    "\n",
    "# processing.run(\"native:reclassifybytable\", {'INPUT_RASTER':'C:/Users/grace/GIS/povertyequity/urban_growth/WSFE_TCD.tif','RASTER_BAND':1,'TABLE':['2016','','0','','1984','0'],'NO_DATA':0,'RANGE_BOUNDARIES':0,'NODATA_FOR_MISSING':False,'DATA_TYPE':5,'OUTPUT':'C:/Users/grace/GIS/povertyequity/urban_growth/WSFE.tif'})"
   ]
  },
  {
   "cell_type": "code",
   "execution_count": 4,
   "id": "08c7cec3",
   "metadata": {},
   "outputs": [
    {
     "name": "stdout",
     "output_type": "stream",
     "text": [
      "<open DatasetReader name='C:/Users/grace/GIS/povertyequity/urban_growth/WSFE.tif' mode='r'>\n",
      "['__class__', '__delattr__', '__dict__', '__dir__', '__doc__', '__enter__', '__eq__', '__exit__', '__format__', '__ge__', '__getattribute__', '__gt__', '__hash__', '__init__', '__init_subclass__', '__le__', '__lt__', '__module__', '__ne__', '__new__', '__pyx_vtable__', '__reduce__', '__reduce_ex__', '__repr__', '__setattr__', '__setstate__', '__sizeof__', '__str__', '__subclasshook__', '__weakref__', '_block_shapes', '_closed', '_count', '_crs', '_crs_wkt', '_descriptions', '_dtypes', '_env', '_gcps', '_get_crs', '_get_rpcs', '_handle_crswkt', '_has_band', '_has_gcps_or_rpcs', '_mask_flags', '_nodatavals', '_offsets', '_read', '_rpcs', '_scales', '_set_all_descriptions', '_set_all_offsets', '_set_all_scales', '_set_all_units', '_set_attrs_from_dataset_handle', '_set_crs', '_set_gcps', '_set_nodatavals', '_set_rpcs', '_transform', '_units', 'block_shapes', 'block_size', 'block_window', 'block_windows', 'bounds', 'checksum', 'close', 'closed', 'colorinterp', 'colormap', 'compression', 'count', 'crs', 'dataset_mask', 'descriptions', 'driver', 'dtypes', 'files', 'gcps', 'get_gcps', 'get_nodatavals', 'get_tag_item', 'get_transform', 'height', 'index', 'indexes', 'interleaving', 'is_tiled', 'lnglat', 'mask_flag_enums', 'meta', 'mode', 'name', 'nodata', 'nodatavals', 'offsets', 'options', 'overviews', 'photometric', 'profile', 'read', 'read_crs', 'read_masks', 'read_transform', 'res', 'rpcs', 'sample', 'scales', 'shape', 'start', 'statistics', 'stop', 'subdatasets', 'tag_namespaces', 'tags', 'transform', 'units', 'width', 'window', 'window_bounds', 'window_transform', 'write_transform', 'xy']\n",
      "ESRI:102022\n",
      "('float32',)\n",
      "(0.0,)\n",
      "0.0 0.52195686 0.0 2015.0\n"
     ]
    }
   ],
   "source": [
    "WSFE = rasterio.open(\"C:/Users/grace/GIS/povertyequity/urban_growth/WSFE.tif\")\n",
    "print(WSFE) # WSFE values are all 4 digits long (1985-2015)\n",
    "print(dir(WSFE))\n",
    "print(WSFE.crs)\n",
    "print(WSFE.dtypes)\n",
    "print(WSFE.nodatavals)\n",
    "print(WSFE.read(1).min(), WSFE.read(1).mean(), np.median(WSFE.read(1)), WSFE.read(1).max())"
   ]
  },
  {
   "cell_type": "markdown",
   "id": "336d0ce6",
   "metadata": {},
   "source": [
    "##### WorldPop: Reproject to same CRS as the vector layers."
   ]
  },
  {
   "cell_type": "code",
   "execution_count": 4,
   "id": "f1868c40",
   "metadata": {
    "collapsed": true
   },
   "outputs": [
    {
     "name": "stdout",
     "output_type": "stream",
     "text": [
      "['tcd_ppp_2000_UNadj.tif', 'tcd_ppp_2001_UNadj.tif', 'tcd_ppp_2002_UNadj.tif', 'tcd_ppp_2003_UNadj.tif', 'tcd_ppp_2004_UNadj.tif', 'tcd_ppp_2005_UNadj.tif', 'tcd_ppp_2006_UNadj.tif', 'tcd_ppp_2007_UNadj.tif', 'tcd_ppp_2008_UNadj.tif', 'tcd_ppp_2009_UNadj.tif', 'tcd_ppp_2010_UNadj.tif', 'tcd_ppp_2011_UNadj.tif', 'tcd_ppp_2012_UNadj.tif', 'tcd_ppp_2013_UNadj.tif', 'tcd_ppp_2014_UNadj.tif', 'tcd_ppp_2015_UNadj.tif', 'Wpop_2000_albers.tif', 'Wpop_2001_albers.tif', 'Wpop_2002_albers.tif', 'Wpop_2003_albers.tif', 'Wpop_2004_albers.tif', 'wpop_2005_albers.tif', 'Wpop_2006_albers.tif', 'Wpop_2007_albers.tif', 'Wpop_2008_albers.tif', 'Wpop_2009_albers.tif', 'Wpop_2010_albers.tif', 'Wpop_2011_albers.tif', 'Wpop_2012_albers.tif', 'Wpop_2013_albers.tif', 'Wpop_2014_albers.tif', 'Wpop_2015_albers.tif']\n"
     ]
    }
   ],
   "source": [
    "WpopFolder = r\"C:\\Users\\grace\\GIS\\povertyequity\\urban_growth\\TCD_WorldPop\"\n",
    "WpopFiles = os.listdir('TCD_WorldPop/')\n",
    "print(WpopFiles)"
   ]
  },
  {
   "cell_type": "code",
   "execution_count": 57,
   "id": "92b22173",
   "metadata": {},
   "outputs": [],
   "source": [
    "CRS = gdal.WarpOptions(dstSRS='ESRI:102022')\n",
    "\n",
    "for item in WpopFiles:\n",
    "    InputFileName = r'C:\\Users\\grace\\GIS\\povertyequity\\urban_growth\\TCD_WorldPop\\{}'.format(item)\n",
    "    InputRaster = gdal.Open(InputFileName)\n",
    "    OutputFileName = \"Wpop_\" + str(re.sub(r'[^0-9]', '', item)) + \"_albers.tif\"\n",
    "    OutputRaster = os.path.join(WpopFolder, OutputFileName)\n",
    "    Warp = gdal.Warp(OutputRaster, \n",
    "                     InputRaster, \n",
    "                     format='GTiff', \n",
    "                     options=CRS) # Reproject to Africa Albers Equal Area Conic\n",
    "    Warp = None # Closes the files"
   ]
  },
  {
   "cell_type": "code",
   "execution_count": 5,
   "id": "b9c43fc5",
   "metadata": {
    "collapsed": true
   },
   "outputs": [
    {
     "name": "stdout",
     "output_type": "stream",
     "text": [
      "C:\\Users\\grace\\GIS\\povertyequity\\urban_growth\\TCD_WorldPop\\Wpop_2005_albers.tif\n",
      "PROJCS[\"Africa_Albers_Equal_Area_Conic\",GEOGCS[\"WGS 84\",DATUM[\"WGS_1984\",SPHEROID[\"WGS 84\",6378137,298.257223563,AUTHORITY[\"EPSG\",\"7030\"]],AUTHORITY[\"EPSG\",\"6326\"]],PRIMEM[\"Greenwich\",0],UNIT[\"degree\",0.0174532925199433,AUTHORITY[\"EPSG\",\"9122\"]],AUTHORITY[\"EPSG\",\"4326\"]],PROJECTION[\"Albers_Conic_Equal_Area\"],PARAMETER[\"latitude_of_center\",0],PARAMETER[\"longitude_of_center\",25],PARAMETER[\"standard_parallel_1\",20],PARAMETER[\"standard_parallel_2\",-23],PARAMETER[\"false_easting\",0],PARAMETER[\"false_northing\",0],UNIT[\"metre\",1,AUTHORITY[\"EPSG\",\"9001\"]],AXIS[\"Easting\",EAST],AXIS[\"Northing\",NORTH]]\n"
     ]
    }
   ],
   "source": [
    "CheckContents = gdal.Open(r'C:\\Users\\grace\\GIS\\povertyequity\\urban_growth\\TCD_WorldPop\\Wpop_2005_albers.tif')\n",
    "print(CheckContents.GetDescription())\n",
    "print(CheckContents.GetProjection())\n",
    "del CheckContents"
   ]
  },
  {
   "cell_type": "markdown",
   "id": "464b6ac4",
   "metadata": {},
   "source": [
    "##### Nighttime Lights"
   ]
  },
  {
   "cell_type": "code",
   "execution_count": null,
   "id": "b26877cc",
   "metadata": {},
   "outputs": [],
   "source": [
    "NTL = "
   ]
  },
  {
   "cell_type": "markdown",
   "id": "3d1c1b9d",
   "metadata": {},
   "source": [
    "##### GRID3 and Admin areas: Loading through gdal because we'll be rasterizing right away."
   ]
  },
  {
   "cell_type": "code",
   "execution_count": 5,
   "id": "59adfdf8",
   "metadata": {},
   "outputs": [
    {
     "name": "stdout",
     "output_type": "stream",
     "text": [
      "<class 'geopandas.geodataframe.GeoDataFrame'>\n",
      "RangeIndex: 70 entries, 0 to 69\n",
      "Data columns (total 7 columns):\n",
      " #   Column     Non-Null Count  Dtype   \n",
      "---  ------     --------------  -----   \n",
      " 0   ADM0_CODE  70 non-null     int64   \n",
      " 1   ADM0_NAME  70 non-null     object  \n",
      " 2   ADM1_CODE  70 non-null     int64   \n",
      " 3   ADM1_NAME  70 non-null     object  \n",
      " 4   ADM2_CODE  70 non-null     int64   \n",
      " 5   ADM2_NAME  70 non-null     object  \n",
      " 6   geometry   70 non-null     geometry\n",
      "dtypes: geometry(1), int64(3), object(3)\n",
      "memory usage: 4.0+ KB\n",
      "None \n",
      "\n",
      " PROJCS[\"Africa_Albers_Equal_Area_Conic\",GEOGCS[\"WGS 84\",DATUM[\"WGS_1984\",SPHEROID[\"WGS 84\",6378137,298.257223563,AUTHORITY[\"EPSG\",\"7030\"]],AUTHORITY[\"EPSG\",\"6326\"]],PRIMEM[\"Greenwich\",0],UNIT[\"Degree\",0.0174532925199433]],PROJECTION[\"Albers_Conic_Equal_Area\"],PARAMETER[\"latitude_of_center\",0],PARAMETER[\"longitude_of_center\",25],PARAMETER[\"standard_parallel_1\",20],PARAMETER[\"standard_parallel_2\",-23],PARAMETER[\"false_easting\",0],PARAMETER[\"false_northing\",0],UNIT[\"metre\",1,AUTHORITY[\"EPSG\",\"9001\"]],AXIS[\"Easting\",EAST],AXIS[\"Northing\",NORTH]] \n",
      "\n",
      " 4\n",
      "<class 'geopandas.geodataframe.GeoDataFrame'>\n",
      "RangeIndex: 353534 entries, 0 to 353533\n",
      "Data columns (total 10 columns):\n",
      " #   Column      Non-Null Count   Dtype   \n",
      "---  ------      --------------   -----   \n",
      " 0   OBJECTID    353534 non-null  int64   \n",
      " 1   type        353534 non-null  object  \n",
      " 2   adm1_name   353534 non-null  object  \n",
      " 3   adm1_pcode  353534 non-null  object  \n",
      " 4   adm2_name   353534 non-null  object  \n",
      " 5   adm2_pcode  353534 non-null  object  \n",
      " 6   settl_pcod  353534 non-null  object  \n",
      " 7   Shape__Are  353534 non-null  float64 \n",
      " 8   Shape__Len  353534 non-null  float64 \n",
      " 9   geometry    353534 non-null  geometry\n",
      "dtypes: float64(2), geometry(1), int64(1), object(6)\n",
      "memory usage: 27.0+ MB\n",
      "None \n",
      "\n",
      " PROJCS[\"Africa_Albers_Equal_Area_Conic\",GEOGCS[\"WGS 84\",DATUM[\"WGS_1984\",SPHEROID[\"WGS 84\",6378137,298.257223563,AUTHORITY[\"EPSG\",\"7030\"]],AUTHORITY[\"EPSG\",\"6326\"]],PRIMEM[\"Greenwich\",0],UNIT[\"Degree\",0.0174532925199433]],PROJECTION[\"Albers_Conic_Equal_Area\"],PARAMETER[\"latitude_of_center\",0],PARAMETER[\"longitude_of_center\",25],PARAMETER[\"standard_parallel_1\",20],PARAMETER[\"standard_parallel_2\",-23],PARAMETER[\"false_easting\",0],PARAMETER[\"false_northing\",0],UNIT[\"metre\",1,AUTHORITY[\"EPSG\",\"9001\"]],AXIS[\"Easting\",EAST],AXIS[\"Northing\",NORTH]] \n",
      "\n",
      " 6\n"
     ]
    }
   ],
   "source": [
    "ADM_vec = gpd.read_file('TCD_Urb_VDITransfer.gpkg', layer=0)\n",
    "GRID3_vec = gpd.read_file('TCD_Urb_VDITransfer.gpkg', layer=1)\n",
    "ADM_out = './ADM.tif'\n",
    "GRID3_out = './GRID3.tif'\n",
    "# WSFE loaded earlier. It will be the raster to snap and sample to.\n",
    "\n",
    "print(ADM_vec.info(), \"\\n\\n\", \n",
    "      ADM_vec.crs, \"\\n\\n\", \n",
    "      len(str(ADM_vec['ADM2_CODE'].max()))) # Chad's ADM IDs are up to 4 digits long. (70 features, but their ADM2_CODEs start in the 100s)\n",
    "print(GRID3_vec.info(), \"\\n\\n\", \n",
    "      GRID3_vec.crs, \"\\n\\n\", \n",
    "      len(str(GRID3_vec['OBJECTID'].max()))) # Chad's GRID3 object IDs are up to 6 digits long. (353,534 features)"
   ]
  },
  {
   "cell_type": "markdown",
   "id": "7c8ac62e",
   "metadata": {},
   "source": [
    "##### Place names: Three options to work with. "
   ]
  },
  {
   "cell_type": "code",
   "execution_count": 25,
   "id": "9b433103",
   "metadata": {},
   "outputs": [
    {
     "name": "stdout",
     "output_type": "stream",
     "text": [
      "<class 'geopandas.geodataframe.GeoDataFrame'>\n",
      "RangeIndex: 13135 entries, 0 to 13134\n",
      "Columns: 161 entries, ID_HDC_G0 to geometry\n",
      "dtypes: float64(143), geometry(1), object(17)\n",
      "memory usage: 16.1+ MB\n",
      "<class 'geopandas.geodataframe.GeoDataFrame'>\n",
      "RangeIndex: 7720 entries, 0 to 7719\n",
      "Data columns (total 17 columns):\n",
      " #   Column      Non-Null Count  Dtype   \n",
      "---  ------      --------------  -----   \n",
      " 0   agglosID    7720 non-null   int64   \n",
      " 1   agglosName  7720 non-null   object  \n",
      " 2   ISO3        7720 non-null   object  \n",
      " 3   Longitude   7720 non-null   float64 \n",
      " 4   Latitude    7720 non-null   float64 \n",
      " 5   Pop2015     7720 non-null   int64   \n",
      " 6   builtUp     7720 non-null   float64 \n",
      " 7   Voronoi     7720 non-null   int64   \n",
      " 8   Pop1950     7720 non-null   int64   \n",
      " 9   Pop1960     7720 non-null   int64   \n",
      " 10  Pop1970     7720 non-null   int64   \n",
      " 11  Pop1980     7720 non-null   int64   \n",
      " 12  Pop1990     7720 non-null   int64   \n",
      " 13  Pop2000     7720 non-null   int64   \n",
      " 14  Pop2010     7720 non-null   int64   \n",
      " 15  Metropole   7720 non-null   object  \n",
      " 16  geometry    7720 non-null   geometry\n",
      "dtypes: float64(3), geometry(1), int64(10), object(3)\n",
      "memory usage: 1.0+ MB\n",
      "<class 'geopandas.geodataframe.GeoDataFrame'>\n",
      "RangeIndex: 48 entries, 0 to 47\n",
      "Data columns (total 20 columns):\n",
      " #   Column    Non-Null Count  Dtype   \n",
      "---  ------    --------------  -----   \n",
      " 0   field_1   48 non-null     int64   \n",
      " 1   field_2   48 non-null     object  \n",
      " 2   field_3   48 non-null     object  \n",
      " 3   field_4   47 non-null     object  \n",
      " 4   field_5   48 non-null     float64 \n",
      " 5   field_6   48 non-null     float64 \n",
      " 6   field_7   48 non-null     object  \n",
      " 7   field_8   48 non-null     object  \n",
      " 8   field_9   48 non-null     object  \n",
      " 9   field_10  0 non-null      object  \n",
      " 10  field_11  48 non-null     object  \n",
      " 11  field_12  0 non-null      object  \n",
      " 12  field_13  0 non-null      object  \n",
      " 13  field_14  0 non-null      object  \n",
      " 14  field_15  48 non-null     int64   \n",
      " 15  field_16  48 non-null     int64   \n",
      " 16  field_17  48 non-null     int64   \n",
      " 17  field_18  48 non-null     object  \n",
      " 18  field_19  48 non-null     object  \n",
      " 19  geometry  48 non-null     geometry\n",
      "dtypes: float64(2), geometry(1), int64(4), object(13)\n",
      "memory usage: 7.6+ KB\n",
      "None \n",
      "\n",
      "\n",
      " None \n",
      "\n",
      "\n",
      " None\n"
     ]
    }
   ],
   "source": [
    "UCDB = gpd.read_file(r'GHS_UCDB/GHS_STAT_UCDB2015MT_GLOBE_R2019A_V1_2.gpkg', layer=0)\n",
    "Africapolis = gpd.read_file('AFRICAPOLIS2020.shp')\n",
    "GeoNames = gpd.read_file('GeoNames_cities500_TCD.shp')\n",
    "print(UCDB.info(), \"\\n\\n\\n\", Africapolis.info(), \"\\n\\n\\n\", GeoNames.info())"
   ]
  },
  {
   "cell_type": "markdown",
   "id": "2445bc49",
   "metadata": {},
   "source": [
    "### 3. WSFE AND ADM; GRID3 AND ADM\n",
    "RASTERIZE: Bring ADM and GRID3 into raster space.\n",
    "\n",
    "RASTER MATH: \"Join\" ADM ID onto GRID3 and onto WSFE by creating unique concatenation string.\n",
    "\n",
    "VECTORIZE: Bring joined data into vector space.\n",
    "\n",
    "VECTOR MATH: Split unique ID from raster math step into separate columns."
   ]
  },
  {
   "cell_type": "markdown",
   "id": "8aedea55",
   "metadata": {},
   "source": [
    "##### Rasterize"
   ]
  },
  {
   "cell_type": "code",
   "execution_count": 6,
   "id": "92cddb32",
   "metadata": {},
   "outputs": [],
   "source": [
    "# Copy and update the metadata from WSFE for the output\n",
    "meta = WSFE.meta.copy()\n",
    "meta.update(compress='lzw')"
   ]
  },
  {
   "cell_type": "code",
   "execution_count": 7,
   "id": "6868f63c",
   "metadata": {},
   "outputs": [],
   "source": [
    "with rasterio.open(ADM_out, 'w+', **meta) as out:\n",
    "    out_arr = out.read(1)\n",
    "\n",
    "    # this is where we create a generator of geom, value pairs to use in rasterizing\n",
    "    shapes = ((geom,value) for geom, value in zip(ADM_vec.geometry, ADM_vec.ADM2_CODE))\n",
    "\n",
    "    burned = features.rasterize(shapes=shapes, fill=0, out=out_arr, transform=out.transform, all_touched=False)\n",
    "    out.write_band(1, burned)"
   ]
  },
  {
   "cell_type": "code",
   "execution_count": 8,
   "id": "c7954068",
   "metadata": {},
   "outputs": [],
   "source": [
    "with rasterio.open(GRID3_out, 'w+', **meta) as out:\n",
    "    out_arr = out.read(1)\n",
    "\n",
    "    # this is where we create a generator of geom, value pairs to use in rasterizing\n",
    "    shapes = ((geom,value) for geom, value in zip(GRID3_vec.geometry, GRID3_vec.OBJECTID))\n",
    "\n",
    "    burned = features.rasterize(shapes=shapes, fill=0, out=out_arr, transform=out.transform, all_touched=False)\n",
    "    out.write_band(1, burned)"
   ]
  },
  {
   "cell_type": "code",
   "execution_count": 9,
   "id": "88c8abe7",
   "metadata": {},
   "outputs": [
    {
     "name": "stdout",
     "output_type": "stream",
     "text": [
      "Float32 0.0 Float32 0.0 Float32 0.0\n"
     ]
    }
   ],
   "source": [
    "ADM_rast = gdal.Open(r\"ADM.tif\")\n",
    "GRID3_rast = gdal.Open(r\"GRID3.tif\")\n",
    "WSFE_rast = gdal.Open(r\"WSFE.tif\")\n",
    "\n",
    "ADM_band = ADM_rast.GetRasterBand(1)\n",
    "GRID3_band = GRID3_rast.GetRasterBand(1)\n",
    "WSFE_band = WSFE_rast.GetRasterBand(1)\n",
    "\n",
    "print(gdal.GetDataTypeName(ADM_band.DataType), ADM_band.GetNoDataValue(),\n",
    "      gdal.GetDataTypeName(GRID3_band.DataType), GRID3_band.GetNoDataValue(), \n",
    "      gdal.GetDataTypeName(WSFE_band.DataType), WSFE_band.GetNoDataValue())"
   ]
  },
  {
   "cell_type": "markdown",
   "id": "49eb543f",
   "metadata": {},
   "source": [
    "##### Raster math\n",
    "Processing is more rapid when \"joining,\" i.e. creating serial codes out of two datasets, in raster rather than vector space.\n",
    "Here, we are concatenating the ID fields of the two datasets to create a serial number that we can then split in vector space later to create two ID fields."
   ]
  },
  {
   "cell_type": "code",
   "execution_count": 10,
   "id": "bd52470c",
   "metadata": {},
   "outputs": [
    {
     "name": "stdout",
     "output_type": "stream",
     "text": [
      "ADM.tif \n",
      "Bands=  1 \n",
      "WxH=  39041 x 60394 \n",
      "\n",
      "\n",
      "GRID3.tif \n",
      "Bands=  1 \n",
      "WxH=  39041 x 60394 \n",
      "\n",
      "\n",
      "WSFE.tif \n",
      "Bands=  1 \n",
      "WxH=  39041 x 60394 \n",
      "\n",
      "\n",
      "\n",
      " [{'raster': 'ADM.tif', 'min': 0.0, 'mean': 814.0737, 'median': 301.0, 'max': 2303.0}, {'raster': 'GRID3.tif', 'min': 0.0, 'mean': 1171.708, 'median': 0.0, 'max': 353534.0}, {'raster': 'WSFE.tif', 'min': 0.0, 'mean': 0.52195686, 'median': 0.0, 'max': 2015.0}]\n"
     ]
    }
   ],
   "source": [
    "RastersList = [rasterio.open(r\"ADM.tif\"), rasterio.open(r\"GRID3.tif\"), rasterio.open(r\"WSFE.tif\")]\n",
    "\n",
    "for item in RastersList:\n",
    "    print(item.name, \"\\nBands= \", item.count, \"\\nWxH= \", item.width, \"x\", item.height, \"\\n\\n\")\n",
    "\n",
    "stats = []\n",
    "for item in RastersList:\n",
    "    band = item.read(1)\n",
    "    stats.append({\n",
    "        'raster': item.name,\n",
    "        'min': band.min(),\n",
    "        'mean': band.mean(),\n",
    "        'median': np.median(band),\n",
    "        'max': band.max()})\n",
    "\n",
    "# Show stats for each channel\n",
    "print(\"\\n\", stats)"
   ]
  },
  {
   "cell_type": "markdown",
   "id": "379ef7cf",
   "metadata": {},
   "source": [
    "*Adding together the values to create join IDs. This is in effect a concatenation of their ID strings, by way of summation. The number of zeros in the calc multiplication corresponds with number of digits of the maximum value in the \"B\" dataset. (e.g. Chad ADM codes go up 4 digits, so it's calc=(A*10000)+B).*"
   ]
  },
  {
   "cell_type": "code",
   "execution_count": 128,
   "id": "0e93ac46",
   "metadata": {
    "collapsed": true
   },
   "outputs": [
    {
     "ename": "SyntaxError",
     "evalue": "invalid syntax (3519976050.py, line 5)",
     "output_type": "error",
     "traceback": [
      "\u001b[1;36m  Cell \u001b[1;32mIn [128], line 5\u001b[1;36m\u001b[0m\n\u001b[1;33m    gdal_calc.py -A ADM.tif -B GRID3.tif --outfile=GRID3_ADM.tif --calc=\"(B*1000)+A\"\u001b[0m\n\u001b[1;37m                    ^\u001b[0m\n\u001b[1;31mSyntaxError\u001b[0m\u001b[1;31m:\u001b[0m invalid syntax\n"
     ]
    }
   ],
   "source": [
    "# # OPEN TERMINAL FOR THIS PORTION. CODE DOCUMENTED HERE.\n",
    "\n",
    "# Gdal_calc.py # To see info.\n",
    "\n",
    "# gdal_calc.py -A C:\\Users\\grace\\GIS\\povertyequity\\urban_growth\\GRID3.tif -B  C:\\Users\\grace\\GIS\\povertyequity\\urban_growth\\ADM.tif --outfile=C:\\Users\\grace\\GIS\\povertyequity\\urban_growth\\GRID3_ADM.tif --overwrite --calc=\"(A*10000)+B\"\n",
    "# gdal_calc.py -A C:\\Users\\grace\\GIS\\povertyequity\\urban_growth\\WSFE.tif -B  C:\\Users\\grace\\GIS\\povertyequity\\urban_growth\\ADM.tif --outfile=C:\\Users\\grace\\GIS\\povertyequity\\urban_growth\\WSFE_ADM.tif --overwrite --calc=\"(A*10000)+B\"\n",
    "\n",
    "# # END TERMINAL-ONLY ASPECT. RETURN HERE FOR NEXT STEPS."
   ]
  },
  {
   "cell_type": "code",
   "execution_count": 11,
   "id": "cbc6ff09",
   "metadata": {},
   "outputs": [
    {
     "name": "stdout",
     "output_type": "stream",
     "text": [
      "WSFE_ADM.tif \n",
      "Bands=  1 \n",
      "WxH=  39041 x 60394 \n",
      "\n",
      "\n",
      "GRID3_ADM.tif \n",
      "Bands=  1 \n",
      "WxH=  39041 x 60394 \n",
      "\n",
      "\n"
     ]
    },
    {
     "name": "stderr",
     "output_type": "stream",
     "text": [
      "C:\\Users\\grace\\miniconda3\\envs\\geo\\lib\\site-packages\\numpy\\core\\_methods.py:180: RuntimeWarning: overflow encountered in reduce\n",
      "  ret = umr_sum(arr, axis, dtype, out, keepdims, where=where)\n"
     ]
    },
    {
     "name": "stdout",
     "output_type": "stream",
     "text": [
      "\n",
      " [{'raster': 'WSFE_ADM.tif', 'min': 19850100.0, 'mean': inf, 'median': inf, 'max': 3.4028235e+38}, {'raster': 'GRID3_ADM.tif', 'min': 10906.0, 'mean': inf, 'median': inf, 'max': 3.4028235e+38}]\n"
     ]
    }
   ],
   "source": [
    "# Validation: check the basic statistics of the resulting datasets.\n",
    "RastersList = [rasterio.open(\"WSFE_ADM.tif\"), rasterio.open(\"GRID3_ADM.tif\")]\n",
    "for item in RastersList:\n",
    "    print(item.name, \"\\nBands= \", item.count, \"\\nWxH= \", item.width, \"x\", item.height, \"\\n\\n\")\n",
    "    \n",
    "stats = []\n",
    "for item in RastersList:\n",
    "    band = item.read(1)\n",
    "    stats.append({\n",
    "        'raster': item.name,\n",
    "        'min': band.min(),\n",
    "        'mean': band.mean(),\n",
    "        'median': np.median(band),\n",
    "        'max': band.max()})\n",
    "\n",
    "# Show stats for each channel\n",
    "print(\"\\n\", stats)"
   ]
  },
  {
   "cell_type": "markdown",
   "id": "4524b8b3",
   "metadata": {},
   "source": [
    "##### Vectorize"
   ]
  },
  {
   "cell_type": "code",
   "execution_count": null,
   "id": "ecea8c84",
   "metadata": {},
   "outputs": [],
   "source": [
    "# OPEN QGIS FOR THIS PORTION. CODE DOCUMENTED HERE.\n",
    "\n",
    "# Due to dtype errors with both gdal and rasterio here, I decided to run the raster to polygon function in QGIS instead.\n",
    "# It is possible to run QGIS functions within a Jupyter Notebook, but I ran it within the GUI. Arc or R are other options.\n",
    "# Command line code here.\n",
    "\n",
    "# processing.run(\"gdal:polygonize\", {'INPUT':'C:/Users/grace/GIS/povertyequity/urban_growth/GRID3_ADM.tif','BAND':1,'FIELD':'DN','EIGHT_CONNECTEDNESS':False,'EXTRA':'','OUTPUT':'C:/Users/grace/GIS/povertyequity/urban_growth/GRID3_ADM.shp'})\n",
    "# processing.run(\"gdal:polygonize\", {'INPUT':'C:/Users/grace/GIS/povertyequity/urban_growth/WSFE_ADM.tif','BAND':1,'FIELD':'DN','EIGHT_CONNECTEDNESS':False,'EXTRA':'','OUTPUT':'C:/Users/grace/GIS/povertyequity/urban_growth/WSFE_ADM.shp'})"
   ]
  },
  {
   "cell_type": "markdown",
   "id": "74627ef4",
   "metadata": {},
   "source": [
    "##### Vector math"
   ]
  },
  {
   "cell_type": "code",
   "execution_count": 12,
   "id": "c20ed2a8",
   "metadata": {},
   "outputs": [
    {
     "name": "stdout",
     "output_type": "stream",
     "text": [
      "<class 'geopandas.geodataframe.GeoDataFrame'>\n",
      "RangeIndex: 699644 entries, 0 to 699643\n",
      "Data columns (total 2 columns):\n",
      " #   Column    Non-Null Count   Dtype   \n",
      "---  ------    --------------   -----   \n",
      " 0   DN        699644 non-null  int64   \n",
      " 1   geometry  699644 non-null  geometry\n",
      "dtypes: geometry(1), int64(1)\n",
      "memory usage: 10.7 MB\n",
      "<class 'geopandas.geodataframe.GeoDataFrame'>\n",
      "RangeIndex: 258724 entries, 0 to 258723\n",
      "Data columns (total 2 columns):\n",
      " #   Column    Non-Null Count   Dtype   \n",
      "---  ------    --------------   -----   \n",
      " 0   DN        258724 non-null  int64   \n",
      " 1   geometry  258724 non-null  geometry\n",
      "dtypes: geometry(1), int64(1)\n",
      "memory usage: 3.9 MB\n",
      "None \n",
      "\n",
      "                 DN                                           geometry\n",
      "308557   181591102  POLYGON ((-999027.533 1104229.464, -998970.975...\n",
      "565402  1979512064  POLYGON ((-486353.195 1415020.616, -486240.078...\n",
      "229515  1542450502  POLYGON ((-806163.118 1392580.605, -806078.280...\n",
      "31287   2147483647  POLYGON ((-448826.644 1698197.920, -448741.806...\n",
      "209010  1785610402  POLYGON ((-700285.644 1423924.428, -700200.806...\n",
      "428537  2147483647  POLYGON ((-412827.171 1610814.229, -412742.334...\n",
      "75493   2147483647  POLYGON ((-555637.332 1614604.365, -555382.819...\n",
      "65339   2147483647  POLYGON ((-1112794.915 1628952.737, -1112738.3...\n",
      "480181  2147483647  POLYGON ((-378778.967 1552909.373, -378694.129...\n",
      "630226   325581600  POLYGON ((-878190.342 1193267.580, -878077.225... \n",
      "\n",
      " PROJCS[\"Africa_Albers_Equal_Area_Conic\",GEOGCS[\"WGS 84\",DATUM[\"WGS_1984\",SPHEROID[\"WGS 84\",6378137,298.257223563,AUTHORITY[\"EPSG\",\"7030\"]],AUTHORITY[\"EPSG\",\"6326\"]],PRIMEM[\"Greenwich\",0,AUTHORITY[\"EPSG\",\"8901\"]],UNIT[\"degree\",0.0174532925199433,AUTHORITY[\"EPSG\",\"9122\"]],AUTHORITY[\"EPSG\",\"4326\"]],PROJECTION[\"Albers_Conic_Equal_Area\"],PARAMETER[\"latitude_of_center\",0],PARAMETER[\"longitude_of_center\",25],PARAMETER[\"standard_parallel_1\",20],PARAMETER[\"standard_parallel_2\",-23],PARAMETER[\"false_easting\",0],PARAMETER[\"false_northing\",0],UNIT[\"metre\",1,AUTHORITY[\"EPSG\",\"9001\"]],AXIS[\"Easting\",EAST],AXIS[\"Northing\",NORTH],AUTHORITY[\"ESRI\",\"102022\"]] \n",
      "\n",
      " None \n",
      "\n",
      "               DN                                           geometry\n",
      "209784  19881600  POLYGON ((-906186.789 1106365.176, -906158.510...\n",
      "220212  19951300  POLYGON ((-690698.982 1081067.522, -690670.703...\n",
      "200597  19851602  POLYGON ((-961670.658 1134370.070, -961614.099...\n",
      "94017   20011301  POLYGON ((-688493.201 1078270.041, -688464.922...\n",
      "29785   20011801  POLYGON ((-1038052.884 1431594.941, -1038024.6...\n",
      "108609  20120901  POLYGON ((-850929.155 1025087.815, -850900.875...\n",
      "67029   20000303  POLYGON ((-865379.846 1210774.398, -865323.288...\n",
      "17428   20050701  POLYGON ((-1075664.273 1580192.336, -1075579.4...\n",
      "68292   20001101  POLYGON ((-1002958.348 1208608.606, -1002930.0...\n",
      "147654  20000702  POLYGON ((-992862.659 1590690.412, -992834.380... \n",
      "\n",
      " PROJCS[\"Africa_Albers_Equal_Area_Conic\",GEOGCS[\"WGS 84\",DATUM[\"WGS_1984\",SPHEROID[\"WGS 84\",6378137,298.257223563,AUTHORITY[\"EPSG\",\"7030\"]],AUTHORITY[\"EPSG\",\"6326\"]],PRIMEM[\"Greenwich\",0,AUTHORITY[\"EPSG\",\"8901\"]],UNIT[\"degree\",0.0174532925199433,AUTHORITY[\"EPSG\",\"9122\"]],AUTHORITY[\"EPSG\",\"4326\"]],PROJECTION[\"Albers_Conic_Equal_Area\"],PARAMETER[\"latitude_of_center\",0],PARAMETER[\"longitude_of_center\",25],PARAMETER[\"standard_parallel_1\",20],PARAMETER[\"standard_parallel_2\",-23],PARAMETER[\"false_easting\",0],PARAMETER[\"false_northing\",0],UNIT[\"metre\",1,AUTHORITY[\"EPSG\",\"9001\"]],AXIS[\"Easting\",EAST],AXIS[\"Northing\",NORTH],AUTHORITY[\"ESRI\",\"102022\"]]\n"
     ]
    }
   ],
   "source": [
    "# Load newly created vectorized datasets.\n",
    "GRID3_ADM = gpd.read_file(\"GRID3_ADM.shp\")\n",
    "WSFE_ADM = gpd.read_file(\"WSFE_ADM.shp\")\n",
    "print(GRID3_ADM.info(), \"\\n\\n\", GRID3_ADM.sample(10), \"\\n\\n\", GRID3_ADM.crs, \"\\n\\n\", \n",
    "      WSFE_ADM.info(), \"\\n\\n\", WSFE_ADM.sample(10), \"\\n\\n\", WSFE_ADM.crs)"
   ]
  },
  {
   "cell_type": "code",
   "execution_count": 13,
   "id": "511be1d5",
   "metadata": {},
   "outputs": [
    {
     "name": "stdout",
     "output_type": "stream",
     "text": [
      "                DN                                           geometry  \\\n",
      "553430  1856010368  POLYGON ((-646244.017 1432226.630, -646130.900...   \n",
      "246118  1138772101  POLYGON ((-284015.234 1353235.383, -283986.955...   \n",
      "407508  2147483647  POLYGON ((-339188.031 1643872.637, -339131.472...   \n",
      "452142  2147483647  POLYGON ((-378892.084 1586388.908, -378807.246...   \n",
      "245633  1070141501  POLYGON ((-422413.834 1354589.003, -422328.996...   \n",
      "697868   218500896  POLYGON ((-864955.657 946758.338, -864899.099 ...   \n",
      "506011  1427960576  POLYGON ((-987517.883 1519490.000, -987461.324...   \n",
      "109418  2147483647  POLYGON ((-503688.369 1578176.947, -503631.810...   \n",
      "638110   210431104  POLYGON ((-960822.280 1155366.220, -960737.443...   \n",
      "71707   2147483647  POLYGON ((-957711.564 1619206.673, -957626.726...   \n",
      "\n",
      "        gridstring  GRID3_OID   ADM  \n",
      "553430  1856010368     185601   368  \n",
      "246118  1138772101     113877  2101  \n",
      "407508  2147483647     214748  3647  \n",
      "452142  2147483647     214748  3647  \n",
      "245633  1070141501     107014  1501  \n",
      "697868  0218500896      21850   896  \n",
      "506011  1427960576     142796   576  \n",
      "109418  2147483647     214748  3647  \n",
      "638110  0210431104      21043  1104  \n",
      "71707   2147483647     214748  3647                 DN                                           geometry  \\\n",
      "147130  20100702  POLYGON ((-1010735.139 1592465.158, -1010706.8...   \n",
      "174574  20091800  POLYGON ((-1031350.705 1423623.623, -1031294.1...   \n",
      "250202  19851002  POLYGON ((-788460.314 1001775.470, -788432.035...   \n",
      "132820  20102304  POLYGON ((-428691.825 1849382.234, -428663.546...   \n",
      "178692  19971800  POLYGON ((-1038703.307 1422089.521, -1038675.0...   \n",
      "157264  20020504  POLYGON ((-996510.681 1464713.510, -996482.402...   \n",
      "72738   19851602  POLYGON ((-962321.080 1129256.394, -962292.801...   \n",
      "236881  20110900  POLYGON ((-850504.966 1024305.723, -850476.687...   \n",
      "175094  20091800  POLYGON ((-1044811.623 1423382.980, -1044783.3...   \n",
      "187025  20081800  POLYGON ((-1033782.719 1415622.225, -1033754.4...   \n",
      "\n",
      "       gridstring  year   ADM  \n",
      "147130   20100702  2010   702  \n",
      "174574   20091800  2009  1800  \n",
      "250202   19851002  1985  1002  \n",
      "132820   20102304  2010  2304  \n",
      "178692   19971800  1997  1800  \n",
      "157264   20020504  2002   504  \n",
      "72738    19851602  1985  1602  \n",
      "236881   20110900  2011   900  \n",
      "175094   20091800  2009  1800  \n",
      "187025   20081800  2008  1800  \n"
     ]
    }
   ],
   "source": [
    "# Split serial back into separate dataset fields.\n",
    "# Remember, for Chad: WSFE and ADM: 4+4=8 digits. GRID3 and ADM: 6+4=10 digits.\n",
    "GRID3_ADM['gridstring'] = GRID3_ADM['DN'].astype(str).str.zfill(10)\n",
    "WSFE_ADM['gridstring'] = WSFE_ADM['DN'].astype(str).str.zfill(8)\n",
    "\n",
    "GRID3_ADM['GRID3_OID'] = GRID3_ADM['gridstring'].str[:-4].astype(int) # Remove the last 4 digits to get the GRID3 portion.\n",
    "GRID3_ADM['ADM'] = GRID3_ADM['gridstring'].str[-4:].astype(int) # Keep only the last 4 digits to get the ADM portion.\n",
    "WSFE_ADM['year'] = WSFE_ADM['gridstring'].str[:-4].astype(int)\n",
    "WSFE_ADM['ADM'] = WSFE_ADM['gridstring'].str[-4:].astype(int)\n",
    "\n",
    "print(GRID3_ADM.sample(10), WSFE_ADM.sample(10))"
   ]
  },
  {
   "cell_type": "code",
   "execution_count": 14,
   "id": "027dd7fa",
   "metadata": {},
   "outputs": [
    {
     "name": "stdout",
     "output_type": "stream",
     "text": [
      "Before: WSFE (258724, 5) and GRID3 (699644, 5)\n",
      "\n",
      "After: WSFE (253434, 5) and GRID3 (699644, 5)\n",
      "\n"
     ]
    }
   ],
   "source": [
    "# Remove features where year, settlement, or admin area = 0.\n",
    "# This was supposed to be resolved earlier with the gdal_calc NoDataValue parameter, but guess it didn't work.\n",
    "\n",
    "print(\"Before: WSFE %s and GRID3 %s\\n\" % (WSFE_ADM.shape, GRID3_ADM.shape))\n",
    "WSFE_ADM = WSFE_ADM.loc[(WSFE_ADM[\"year\"] != 0) & (WSFE_ADM[\"ADM\"] != 0)] # Since we change the datatype to integer, no need to include all digits. Otherwise, it would need to be: != '0000'\n",
    "GRID3_ADM = GRID3_ADM.loc[(GRID3_ADM[\"GRID3_OID\"] != 0) & (GRID3_ADM[\"ADM\"] != 0)]\n",
    "print(\"After: WSFE %s and GRID3 %s\\n\" % (WSFE_ADM.shape, GRID3_ADM.shape))"
   ]
  },
  {
   "cell_type": "code",
   "execution_count": 15,
   "id": "63d5523e",
   "metadata": {},
   "outputs": [],
   "source": [
    "GRID3_ADM['GRID3_splitID'] = GRID3_ADM.index\n",
    "WSFE_ADM['WSFE_ID'] = WSFE_ADM.index"
   ]
  },
  {
   "cell_type": "markdown",
   "id": "49228a63",
   "metadata": {},
   "source": [
    "### 4. WSFE AND GRID3\n",
    "NEAR JOIN: Join GRID3 ID onto WSFE by spatial (within a distance) and attribute matching."
   ]
  },
  {
   "cell_type": "code",
   "execution_count": 91,
   "id": "c7dc35fe",
   "metadata": {},
   "outputs": [],
   "source": [
    "# GRID3_ADM = gpd.read_file(\"GRID3_ADM_cleaned.shp\")\n",
    "# WSFE_ADM = gpd.read_file(\"WSFE_ADM_cleaned.shp\")"
   ]
  },
  {
   "cell_type": "code",
   "execution_count": 81,
   "id": "917a18b6",
   "metadata": {},
   "outputs": [],
   "source": [
    "# GRID3_ADM['ADM_copy'] = pd.to_numeric(GRID3_ADM['ADM'])\n",
    "# WSFE_ADM['ADM_copy'] = pd.to_numeric(WSFE_ADM['ADM'])"
   ]
  },
  {
   "cell_type": "code",
   "execution_count": 16,
   "id": "239958c7",
   "metadata": {},
   "outputs": [
    {
     "data": {
      "text/plain": [
       "array([2201, 2301,  202,  201, 2001, 2002, 2303, 1703, 1704, 1701,  602,\n",
       "       1702,  601, 1401, 1403, 1901,  704,  102,  603,  702,  703,  701,\n",
       "       1903,  101,  103,  501,  502,  503, 2102, 1402,  401, 2101,  404,\n",
       "        302, 1801,  301,  402, 1502,  403, 1103, 1501,  303, 1101, 1303,\n",
       "       1503, 1601, 1301, 1203, 1104, 1202, 1102, 1602, 1603, 1201, 1001,\n",
       "        804,  803,  801,  901,  802, 1003, 1302,  904, 1002,  906,  902,\n",
       "        905,  903, 2200, 2300,  200, 2000, 2304, 1700,  600, 1400, 1404,\n",
       "       1900,  604,  700, 1904,  100,  104,  500,  504,  400, 2100, 1800,\n",
       "        300, 1500,  304, 1100, 1304, 1504, 1600, 1300, 1204, 1604, 1200,\n",
       "       1000,  800,  900, 1004])"
      ]
     },
     "execution_count": 16,
     "metadata": {},
     "output_type": "execute_result"
    }
   ],
   "source": [
    "WSFE_ADM.ADM.unique()"
   ]
  },
  {
   "cell_type": "code",
   "execution_count": 17,
   "id": "0b837c67",
   "metadata": {},
   "outputs": [
    {
     "data": {
      "text/plain": [
       "array([3647,  101,  102, 1902, 1702, 1403, 1701,  702,  103,  501,  603,\n",
       "       1901, 1402, 1903,  502, 2102,  404,  701,  503, 2101,  401,  402,\n",
       "        301,  302, 1801, 1502, 1501, 1503,  403, 1103,  303, 1101, 1301,\n",
       "       1303, 1601, 1203, 1104, 1202, 1102, 1602, 1201, 1001, 1603,  804,\n",
       "        901,  803,  904,  802,  801, 1002, 1003, 1302,  906,  902,  905,\n",
       "        903,   80,   96,  112,  128,  144,  176,  160,   64,  192, 1920,\n",
       "       1632, 1376, 1392, 1408, 1424, 1440, 1456, 1728, 1344, 1360, 1712,\n",
       "       1472,  608,  624,  640,  672,  656,  704,  688,  592,  576, 1888,\n",
       "        464,  480,  512,  544,  496,  528, 1904,  560,  448, 1872, 1936,\n",
       "       1968, 1952, 1856, 1984, 2064, 2080, 2096, 2000,  400, 2016,  416,\n",
       "        432, 2032,  320, 2048, 2112,  336,  368,  352,  384,  304,  288,\n",
       "        240,  256,  272,  208,  224, 1776, 1744, 1808, 1488, 1504, 1520,\n",
       "       1568, 1760, 1584, 1536, 1552, 1600, 1840, 1824, 2144, 1216, 1120,\n",
       "       1088, 1056, 1072, 1264, 1312, 1296, 1280, 1328, 1248, 1616, 1200,\n",
       "       1184, 1232,  976, 1008,  992,  784,  800,  816,  880,  912,  896])"
      ]
     },
     "execution_count": 17,
     "metadata": {},
     "output_type": "execute_result"
    }
   ],
   "source": [
    "GRID3_ADM.ADM.unique()"
   ]
  },
  {
   "cell_type": "code",
   "execution_count": 18,
   "id": "3f773c49",
   "metadata": {},
   "outputs": [
    {
     "data": {
      "text/plain": [
       "[2304,\n",
       " 900,\n",
       " 1800,\n",
       " 1300,\n",
       " 2200,\n",
       " 2201,\n",
       " 1304,\n",
       " 1404,\n",
       " 1700,\n",
       " 1703,\n",
       " 1704,\n",
       " 300,\n",
       " 2100,\n",
       " 1204,\n",
       " 700,\n",
       " 703,\n",
       " 1604,\n",
       " 200,\n",
       " 201,\n",
       " 202,\n",
       " 1100,\n",
       " 2001,\n",
       " 2002,\n",
       " 600,\n",
       " 601,\n",
       " 602,\n",
       " 604,\n",
       " 1500,\n",
       " 100,\n",
       " 104,\n",
       " 1000,\n",
       " 504,\n",
       " 1900,\n",
       " 1004,\n",
       " 500,\n",
       " 1400,\n",
       " 1401,\n",
       " 2300,\n",
       " 2301,\n",
       " 2303]"
      ]
     },
     "execution_count": 18,
     "metadata": {},
     "output_type": "execute_result"
    }
   ],
   "source": [
    "not_matching = list(set(WSFE_ADM.ADM.unique().tolist()) - set(GRID3_ADM.ADM.unique().tolist()))\n",
    "not_matching"
   ]
  },
  {
   "cell_type": "code",
   "execution_count": 19,
   "id": "3a8e1621",
   "metadata": {},
   "outputs": [
    {
     "name": "stdout",
     "output_type": "stream",
     "text": [
      "<class 'geopandas.geodataframe.GeoDataFrame'>\n",
      "Int64Index: 253434 entries, 0 to 258723\n",
      "Data columns (total 6 columns):\n",
      " #   Column      Non-Null Count   Dtype   \n",
      "---  ------      --------------   -----   \n",
      " 0   DN          253434 non-null  int64   \n",
      " 1   geometry    253434 non-null  geometry\n",
      " 2   gridstring  253434 non-null  object  \n",
      " 3   year        253434 non-null  int32   \n",
      " 4   ADM         253434 non-null  int32   \n",
      " 5   WSFE_ID     253434 non-null  int64   \n",
      "dtypes: geometry(1), int32(2), int64(2), object(1)\n",
      "memory usage: 11.6+ MB\n",
      "<class 'geopandas.geodataframe.GeoDataFrame'>\n",
      "Int64Index: 699644 entries, 0 to 699643\n",
      "Data columns (total 6 columns):\n",
      " #   Column         Non-Null Count   Dtype   \n",
      "---  ------         --------------   -----   \n",
      " 0   DN             699644 non-null  int64   \n",
      " 1   geometry       699644 non-null  geometry\n",
      " 2   gridstring     699644 non-null  object  \n",
      " 3   GRID3_OID      699644 non-null  int32   \n",
      " 4   ADM            699644 non-null  int32   \n",
      " 5   GRID3_splitID  699644 non-null  int64   \n",
      "dtypes: geometry(1), int32(2), int64(2), object(1)\n",
      "memory usage: 32.0+ MB\n",
      "None \n",
      "\n",
      "               DN                                           geometry  \\\n",
      "18577   20110701  POLYGON ((-1072892.908 1576582.683, -1072864.6...   \n",
      "80166   19941601  POLYGON ((-906469.581 1107387.911, -906441.302...   \n",
      "89875   20141603  POLYGON ((-943289.152 1085038.141, -943260.872...   \n",
      "237514  20130900  POLYGON ((-846941.782 1023192.747, -846856.944...   \n",
      "131127  19850905  POLYGON ((-870441.830 933583.103, -870413.551 ...   \n",
      "\n",
      "       gridstring  year   ADM  WSFE_ID  \n",
      "18577    20110701  2011   701    18577  \n",
      "80166    19941601  1994  1601    80166  \n",
      "89875    20141603  2014  1603    89875  \n",
      "237514   20130900  2013   900   237514  \n",
      "131127   19850905  1985   905   131127   \n",
      "\n",
      "\n",
      " None \n",
      "\n",
      "                 DN                                           geometry  \\\n",
      "459524  2147483647  POLYGON ((-895864.867 1578207.027, -895780.029...   \n",
      "41661   2147483647  POLYGON ((-780881.477 1672990.508, -780824.919...   \n",
      "192087  1309170503  POLYGON ((-939810.805 1457012.917, -939725.968...   \n",
      "468027  2147483647  POLYGON ((-1079793.042 1567859.354, -1079708.2...   \n",
      "419251  2147483647  POLYGON ((-1087258.762 1622996.809, -1087173.9...   \n",
      "\n",
      "        gridstring  GRID3_OID   ADM  GRID3_splitID  \n",
      "459524  2147483647     214748  3647         459524  \n",
      "41661   2147483647     214748  3647          41661  \n",
      "192087  1309170503     130917   503         192087  \n",
      "468027  2147483647     214748  3647         468027  \n",
      "419251  2147483647     214748  3647         419251  \n"
     ]
    }
   ],
   "source": [
    "print(WSFE_ADM.info(), \"\\n\\n\", WSFE_ADM.sample(5), \"\\n\\n\\n\", GRID3_ADM.info(), \"\\n\\n\", GRID3_ADM.sample(5))"
   ]
  },
  {
   "cell_type": "code",
   "execution_count": 22,
   "id": "f12dc12d",
   "metadata": {},
   "outputs": [
    {
     "data": {
      "text/plain": [
       "[]"
      ]
     },
     "execution_count": 22,
     "metadata": {},
     "output_type": "execute_result"
    }
   ],
   "source": [
    "WSFE_matches = WSFE_ADM[~WSFE_ADM[\"ADM\"].isin(not_matching)] # Take only the features that share an ADM with at least one GRID3 feature.\n",
    "GRID3_matches = GRID3_ADM[~GRID3_ADM[\"ADM\"].isin(not_matching)]\n",
    "\n",
    "new_not_matching = list(set(WSFE_matches.ADM.unique().tolist()) - set(GRID3_matches.ADM.unique().tolist()))\n",
    "new_not_matching # This should be empty."
   ]
  },
  {
   "cell_type": "code",
   "execution_count": 20,
   "id": "43c77266",
   "metadata": {},
   "outputs": [],
   "source": [
    "# Shard the smaller dataframe into a dict\n",
    "shards = {k:d for k, d in GRID3_matches.groupby('ADM')}"
   ]
  },
  {
   "cell_type": "code",
   "execution_count": 23,
   "id": "c9622a77",
   "metadata": {},
   "outputs": [
    {
     "data": {
      "text/html": [
       "<div>\n",
       "<style scoped>\n",
       "    .dataframe tbody tr th:only-of-type {\n",
       "        vertical-align: middle;\n",
       "    }\n",
       "\n",
       "    .dataframe tbody tr th {\n",
       "        vertical-align: top;\n",
       "    }\n",
       "\n",
       "    .dataframe thead th {\n",
       "        text-align: right;\n",
       "    }\n",
       "</style>\n",
       "<table border=\"1\" class=\"dataframe\">\n",
       "  <thead>\n",
       "    <tr style=\"text-align: right;\">\n",
       "      <th></th>\n",
       "      <th></th>\n",
       "      <th>DN_left</th>\n",
       "      <th>geometry</th>\n",
       "      <th>gridstring_left</th>\n",
       "      <th>year</th>\n",
       "      <th>ADM_left</th>\n",
       "      <th>WSFE_ID</th>\n",
       "      <th>index_right</th>\n",
       "      <th>DN_right</th>\n",
       "      <th>gridstring_right</th>\n",
       "      <th>GRID3_OID</th>\n",
       "      <th>ADM_right</th>\n",
       "      <th>GRID3_splitID</th>\n",
       "    </tr>\n",
       "    <tr>\n",
       "      <th>ADM</th>\n",
       "      <th></th>\n",
       "      <th></th>\n",
       "      <th></th>\n",
       "      <th></th>\n",
       "      <th></th>\n",
       "      <th></th>\n",
       "      <th></th>\n",
       "      <th></th>\n",
       "      <th></th>\n",
       "      <th></th>\n",
       "      <th></th>\n",
       "      <th></th>\n",
       "      <th></th>\n",
       "    </tr>\n",
       "  </thead>\n",
       "  <tbody>\n",
       "    <tr>\n",
       "      <th>801</th>\n",
       "      <th>122278</th>\n",
       "      <td>20010801</td>\n",
       "      <td>POLYGON ((-957372.213 1003760.780, -957343.934...</td>\n",
       "      <td>20010801</td>\n",
       "      <td>2001</td>\n",
       "      <td>801</td>\n",
       "      <td>122278</td>\n",
       "      <td>341474.0</td>\n",
       "      <td>4.149080e+07</td>\n",
       "      <td>0041490801</td>\n",
       "      <td>4149.0</td>\n",
       "      <td>801.0</td>\n",
       "      <td>341474.0</td>\n",
       "    </tr>\n",
       "    <tr>\n",
       "      <th>1202</th>\n",
       "      <th>70742</th>\n",
       "      <td>19961202</td>\n",
       "      <td>POLYGON ((-1121561.479 1136656.183, -1121533.2...</td>\n",
       "      <td>19961202</td>\n",
       "      <td>1996</td>\n",
       "      <td>1202</td>\n",
       "      <td>70742</td>\n",
       "      <td>296426.0</td>\n",
       "      <td>5.151912e+08</td>\n",
       "      <td>0515191202</td>\n",
       "      <td>51519.0</td>\n",
       "      <td>1202.0</td>\n",
       "      <td>296426.0</td>\n",
       "    </tr>\n",
       "    <tr>\n",
       "      <th>1002</th>\n",
       "      <th>247315</th>\n",
       "      <td>19971002</td>\n",
       "      <td>POLYGON ((-770446.438 1007881.801, -770418.159...</td>\n",
       "      <td>19971002</td>\n",
       "      <td>1997</td>\n",
       "      <td>1002</td>\n",
       "      <td>247315</td>\n",
       "      <td>340273.0</td>\n",
       "      <td>3.779210e+08</td>\n",
       "      <td>0377921002</td>\n",
       "      <td>37792.0</td>\n",
       "      <td>1002.0</td>\n",
       "      <td>340273.0</td>\n",
       "    </tr>\n",
       "    <tr>\n",
       "      <th>804</th>\n",
       "      <th>97507</th>\n",
       "      <td>19990804</td>\n",
       "      <td>POLYGON ((-896996.036 1069275.988, -896967.757...</td>\n",
       "      <td>19990804</td>\n",
       "      <td>1999</td>\n",
       "      <td>804</td>\n",
       "      <td>97507</td>\n",
       "      <td>321010.0</td>\n",
       "      <td>2.540208e+08</td>\n",
       "      <td>0254020804</td>\n",
       "      <td>25402.0</td>\n",
       "      <td>804.0</td>\n",
       "      <td>321010.0</td>\n",
       "    </tr>\n",
       "    <tr>\n",
       "      <th>1602</th>\n",
       "      <th>205027</th>\n",
       "      <td>20151602</td>\n",
       "      <td>POLYGON ((-955279.549 1119841.215, -955251.270...</td>\n",
       "      <td>20151602</td>\n",
       "      <td>2015</td>\n",
       "      <td>1602</td>\n",
       "      <td>205027</td>\n",
       "      <td>302354.0</td>\n",
       "      <td>1.434616e+08</td>\n",
       "      <td>0143461602</td>\n",
       "      <td>14346.0</td>\n",
       "      <td>1602.0</td>\n",
       "      <td>302354.0</td>\n",
       "    </tr>\n",
       "    <tr>\n",
       "      <th>804</th>\n",
       "      <th>227021</th>\n",
       "      <td>19980804</td>\n",
       "      <td>POLYGON ((-932203.690 1063410.301, -932175.411...</td>\n",
       "      <td>19980804</td>\n",
       "      <td>1998</td>\n",
       "      <td>804</td>\n",
       "      <td>227021</td>\n",
       "      <td>NaN</td>\n",
       "      <td>NaN</td>\n",
       "      <td>NaN</td>\n",
       "      <td>NaN</td>\n",
       "      <td>NaN</td>\n",
       "      <td>NaN</td>\n",
       "    </tr>\n",
       "    <tr>\n",
       "      <th>1603</th>\n",
       "      <th>88761</th>\n",
       "      <td>20051603</td>\n",
       "      <td>POLYGON ((-938453.402 1089941.253, -938396.843...</td>\n",
       "      <td>20051603</td>\n",
       "      <td>2005</td>\n",
       "      <td>1603</td>\n",
       "      <td>88761</td>\n",
       "      <td>313851.0</td>\n",
       "      <td>3.278316e+08</td>\n",
       "      <td>0327831603</td>\n",
       "      <td>32783.0</td>\n",
       "      <td>1603.0</td>\n",
       "      <td>313851.0</td>\n",
       "    </tr>\n",
       "    <tr>\n",
       "      <th>302</th>\n",
       "      <th>189119</th>\n",
       "      <td>20040302</td>\n",
       "      <td>POLYGON ((-1024139.498 1410388.228, -1024111.2...</td>\n",
       "      <td>20040302</td>\n",
       "      <td>2004</td>\n",
       "      <td>302</td>\n",
       "      <td>189119</td>\n",
       "      <td>220108.0</td>\n",
       "      <td>1.315070e+09</td>\n",
       "      <td>1315070302</td>\n",
       "      <td>131507.0</td>\n",
       "      <td>302.0</td>\n",
       "      <td>220108.0</td>\n",
       "    </tr>\n",
       "    <tr>\n",
       "      <th>1002</th>\n",
       "      <th>127527</th>\n",
       "      <td>19941002</td>\n",
       "      <td>POLYGON ((-789959.113 978794.011, -789930.834 ...</td>\n",
       "      <td>19941002</td>\n",
       "      <td>1994</td>\n",
       "      <td>1002</td>\n",
       "      <td>127527</td>\n",
       "      <td>345940.0</td>\n",
       "      <td>3.799210e+08</td>\n",
       "      <td>0379921002</td>\n",
       "      <td>37992.0</td>\n",
       "      <td>1002.0</td>\n",
       "      <td>345940.0</td>\n",
       "    </tr>\n",
       "    <tr>\n",
       "      <th>1303</th>\n",
       "      <th>77496</th>\n",
       "      <td>19851303</td>\n",
       "      <td>POLYGON ((-631538.812 1114547.057, -631425.695...</td>\n",
       "      <td>19851303</td>\n",
       "      <td>1985</td>\n",
       "      <td>1303</td>\n",
       "      <td>77496</td>\n",
       "      <td>304502.0</td>\n",
       "      <td>9.187813e+08</td>\n",
       "      <td>0918781303</td>\n",
       "      <td>91878.0</td>\n",
       "      <td>1303.0</td>\n",
       "      <td>304502.0</td>\n",
       "    </tr>\n",
       "  </tbody>\n",
       "</table>\n",
       "</div>"
      ],
      "text/plain": [
       "              DN_left                                           geometry  \\\n",
       "ADM                                                                        \n",
       "801  122278  20010801  POLYGON ((-957372.213 1003760.780, -957343.934...   \n",
       "1202 70742   19961202  POLYGON ((-1121561.479 1136656.183, -1121533.2...   \n",
       "1002 247315  19971002  POLYGON ((-770446.438 1007881.801, -770418.159...   \n",
       "804  97507   19990804  POLYGON ((-896996.036 1069275.988, -896967.757...   \n",
       "1602 205027  20151602  POLYGON ((-955279.549 1119841.215, -955251.270...   \n",
       "804  227021  19980804  POLYGON ((-932203.690 1063410.301, -932175.411...   \n",
       "1603 88761   20051603  POLYGON ((-938453.402 1089941.253, -938396.843...   \n",
       "302  189119  20040302  POLYGON ((-1024139.498 1410388.228, -1024111.2...   \n",
       "1002 127527  19941002  POLYGON ((-789959.113 978794.011, -789930.834 ...   \n",
       "1303 77496   19851303  POLYGON ((-631538.812 1114547.057, -631425.695...   \n",
       "\n",
       "            gridstring_left  year  ADM_left  WSFE_ID  index_right  \\\n",
       "ADM                                                                 \n",
       "801  122278        20010801  2001       801   122278     341474.0   \n",
       "1202 70742         19961202  1996      1202    70742     296426.0   \n",
       "1002 247315        19971002  1997      1002   247315     340273.0   \n",
       "804  97507         19990804  1999       804    97507     321010.0   \n",
       "1602 205027        20151602  2015      1602   205027     302354.0   \n",
       "804  227021        19980804  1998       804   227021          NaN   \n",
       "1603 88761         20051603  2005      1603    88761     313851.0   \n",
       "302  189119        20040302  2004       302   189119     220108.0   \n",
       "1002 127527        19941002  1994      1002   127527     345940.0   \n",
       "1303 77496         19851303  1985      1303    77496     304502.0   \n",
       "\n",
       "                 DN_right gridstring_right  GRID3_OID  ADM_right  \\\n",
       "ADM                                                                \n",
       "801  122278  4.149080e+07       0041490801     4149.0      801.0   \n",
       "1202 70742   5.151912e+08       0515191202    51519.0     1202.0   \n",
       "1002 247315  3.779210e+08       0377921002    37792.0     1002.0   \n",
       "804  97507   2.540208e+08       0254020804    25402.0      804.0   \n",
       "1602 205027  1.434616e+08       0143461602    14346.0     1602.0   \n",
       "804  227021           NaN              NaN        NaN        NaN   \n",
       "1603 88761   3.278316e+08       0327831603    32783.0     1603.0   \n",
       "302  189119  1.315070e+09       1315070302   131507.0      302.0   \n",
       "1002 127527  3.799210e+08       0379921002    37992.0     1002.0   \n",
       "1303 77496   9.187813e+08       0918781303    91878.0     1303.0   \n",
       "\n",
       "             GRID3_splitID  \n",
       "ADM                         \n",
       "801  122278       341474.0  \n",
       "1202 70742        296426.0  \n",
       "1002 247315       340273.0  \n",
       "804  97507        321010.0  \n",
       "1602 205027       302354.0  \n",
       "804  227021            NaN  \n",
       "1603 88761        313851.0  \n",
       "302  189119       220108.0  \n",
       "1002 127527       345940.0  \n",
       "1303 77496        304502.0  "
      ]
     },
     "execution_count": 23,
     "metadata": {},
     "output_type": "execute_result"
    }
   ],
   "source": [
    "# Now just group by ADM, sjoin_nearest appropriate shard\n",
    "WSFE_GRID3 = WSFE_matches.groupby('ADM').apply(\n",
    "    lambda d: gpd.sjoin_nearest(\n",
    "    d, shards[d['ADM'].values[0]], \n",
    "        how='left', \n",
    "        max_distance=500))\n",
    "WSFE_GRID3.sample(10)"
   ]
  },
  {
   "cell_type": "code",
   "execution_count": 24,
   "id": "5ec6f123",
   "metadata": {},
   "outputs": [
    {
     "name": "stdout",
     "output_type": "stream",
     "text": [
      "<class 'geopandas.geodataframe.GeoDataFrame'>\n",
      "RangeIndex: 176309 entries, 0 to 176308\n",
      "Data columns (total 14 columns):\n",
      " #   Column            Non-Null Count   Dtype   \n",
      "---  ------            --------------   -----   \n",
      " 0   ADM               176309 non-null  int64   \n",
      " 1   level_1           176309 non-null  int64   \n",
      " 2   DN_left           176309 non-null  int64   \n",
      " 3   geometry          176309 non-null  geometry\n",
      " 4   gridstring_left   176309 non-null  object  \n",
      " 5   year              176309 non-null  int32   \n",
      " 6   ADM_left          176309 non-null  int32   \n",
      " 7   WSFE_ID           176309 non-null  int64   \n",
      " 8   index_right       158850 non-null  float64 \n",
      " 9   DN_right          158850 non-null  float64 \n",
      " 10  gridstring_right  158850 non-null  object  \n",
      " 11  GRID3_OID         158850 non-null  float64 \n",
      " 12  ADM_right         158850 non-null  float64 \n",
      " 13  GRID3_splitID     158850 non-null  float64 \n",
      "dtypes: float64(5), geometry(1), int32(2), int64(4), object(2)\n",
      "memory usage: 17.5+ MB\n"
     ]
    }
   ],
   "source": [
    "# The grouping (sharding) approach created a multi-index of WSFE and ADM3. Resetting because this interferes with geoviz.\n",
    "WSFE_GRID3 = WSFE_GRID3.reset_index(level=[0,1])\n",
    "WSFE_GRID3.info()"
   ]
  },
  {
   "cell_type": "markdown",
   "id": "264f7945",
   "metadata": {},
   "source": [
    "### 5. ADD NAMES\n",
    "JOIN FEATURES: UCDB, Africapolis, and GeoNames onto the new GRID3 vectors."
   ]
  },
  {
   "cell_type": "code",
   "execution_count": 26,
   "id": "3f4b7287",
   "metadata": {},
   "outputs": [
    {
     "name": "stdout",
     "output_type": "stream",
     "text": [
      "           UCDB_Name                                           geometry\n",
      "3340  نيتكتن Bitkine  POLYGON ((-707252.037 1409151.654, -707284.782...\n",
      "3261       Bourkouri  POLYGON ((-885530.535 1656631.599, -885565.497...\n",
      "3364    Faya-Largeau  POLYGON ((-614881.354 2087477.502, -614991.892...\n",
      "3344             Ati  POLYGON ((-693573.374 1550322.274, -693647.251...\n",
      "3277            Gore  POLYGON ((-869748.783 936977.772, -869784.231 ... \n",
      "\n",
      "           Afpl_Name                                           geometry\n",
      "3622       Dourbali  POLYGON ((-952298.121 1385081.244, -952555.167...\n",
      "4784  Treguine camp  POLYGON ((-345428.357 1579749.669, -345364.348...\n",
      "6859      Massakory  POLYGON ((-967110.462 1521595.239, -967169.717...\n",
      "3865  Goz Amer camp  POLYGON ((-339139.528 1410083.470, -339186.683...\n",
      "3598   Dosseye Camp  POLYGON ((-871418.652 943218.085, -871340.044 ... \n",
      "\n",
      "         GeoName                          geometry\n",
      "42      Bébédja   POINT (-877950.903 1022673.632)\n",
      "22          Mao  POINT (-1011099.065 1652803.845)\n",
      "36       Bokoro   POINT (-828110.159 1452974.524)\n",
      "28  Gounou Gaya   POINT (-987992.639 1133554.945)\n",
      "27   Guelendeng   POINT (-984751.301 1283401.060)\n"
     ]
    }
   ],
   "source": [
    "# Clean up before joining: drop unnecessary columns, reproject, and clip.\n",
    "\n",
    "UCDB = gpd.clip(UCDB[['UC_NM_MN', 'geometry']].rename(columns={\"UC_NM_MN\": \"UCDB_Name\"}).to_crs(\"ESRI:102022\"), ADM_vec)\n",
    "Africapolis = gpd.clip(Africapolis[['agglosName', 'geometry']].rename(columns={\"agglosName\": \"Afpl_Name\"}).to_crs(\"ESRI:102022\"), ADM_vec)\n",
    "GeoNames = gpd.clip(GeoNames[['field_2', 'geometry']].rename(columns={\"field_2\": \"GeoName\"}).to_crs(\"ESRI:102022\"), ADM_vec)\n",
    "\n",
    "print(UCDB.sample(5), \"\\n\\n\", Africapolis.sample(5), \"\\n\\n\", GeoNames.sample(5))"
   ]
  },
  {
   "cell_type": "code",
   "execution_count": 27,
   "id": "da80375c",
   "metadata": {},
   "outputs": [],
   "source": [
    "WSFE_GRID3 = gpd.sjoin(WSFE_GRID3, GeoNames, how='left', predicate='contains', lsuffix=\"G3\", rsuffix=\"GN\") # Name file is point type, so we can do contain.\n",
    "WSFE_GRID3 = gpd.sjoin(WSFE_GRID3, Africapolis, how='left', predicate='intersects', lsuffix=\"G3\", rsuffix=\"Af\") # Name file is polygon type.\n",
    "WSFE_GRID3 = gpd.sjoin(WSFE_GRID3, UCDB, how='left', predicate='intersects', lsuffix=\"G3\", rsuffix=\"UC\") # Name file is polygon type."
   ]
  },
  {
   "cell_type": "code",
   "execution_count": 33,
   "id": "59a84580",
   "metadata": {},
   "outputs": [
    {
     "name": "stdout",
     "output_type": "stream",
     "text": [
      "<class 'geopandas.geodataframe.GeoDataFrame'>\n",
      "Int64Index: 176310 entries, 0 to 176308\n",
      "Data columns (total 20 columns):\n",
      " #   Column            Non-Null Count   Dtype   \n",
      "---  ------            --------------   -----   \n",
      " 0   ADM               176310 non-null  int64   \n",
      " 1   level_1           176310 non-null  int64   \n",
      " 2   DN_left           176310 non-null  int64   \n",
      " 3   geometry          176310 non-null  geometry\n",
      " 4   gridstring_left   176310 non-null  object  \n",
      " 5   year              176310 non-null  int32   \n",
      " 6   ADM_left          176310 non-null  int32   \n",
      " 7   WSFE_ID           176310 non-null  int64   \n",
      " 8   index_right       158851 non-null  float64 \n",
      " 9   DN_right          158851 non-null  float64 \n",
      " 10  gridstring_right  158851 non-null  object  \n",
      " 11  GRID3_OID         158851 non-null  float64 \n",
      " 12  ADM_right         158851 non-null  float64 \n",
      " 13  GRID3_splitID     158851 non-null  float64 \n",
      " 14  index_GN          53 non-null      float64 \n",
      " 15  GeoName           53 non-null      object  \n",
      " 16  index_Af          75838 non-null   float64 \n",
      " 17  Afpl_Name         75838 non-null   object  \n",
      " 18  index_UC          51484 non-null   float64 \n",
      " 19  UCDB_Name         51484 non-null   object  \n",
      "dtypes: float64(8), geometry(1), int32(2), int64(4), object(5)\n",
      "memory usage: 26.9+ MB\n",
      "None \n",
      "\n",
      "          ADM  level_1   DN_left  \\\n",
      "6859     302    62055  19850302   \n",
      "40505    800   245719  20000800   \n",
      "71309    904   256907  20130904   \n",
      "4797     301    61513  19990301   \n",
      "84116   1002   108876  20051002   \n",
      "51177    803   102519  20110803   \n",
      "161680  1801    45971  19991801   \n",
      "1950     102    19976  19850102   \n",
      "37226    800   241170  20020800   \n",
      "81186    906   256664  20050906   \n",
      "\n",
      "                                                 geometry gridstring_left  \\\n",
      "6859    POLYGON ((-1016984.851 1377059.095, -1016900.0...        19850302   \n",
      "40505   POLYGON ((-930818.007 1010047.593, -930789.728...        20000800   \n",
      "71309   POLYGON ((-869876.245 938245.572, -869847.966 ...        20130904   \n",
      "4797    POLYGON ((-951857.761 1385180.815, -951829.482...        19990301   \n",
      "84116   POLYGON ((-747851.325 1024486.206, -747823.046...        20051002   \n",
      "51177   POLYGON ((-955732.017 1051859.410, -955703.738...        20110803   \n",
      "161680  POLYGON ((-1045094.415 1422901.693, -1045066.1...        19991801   \n",
      "1950    POLYGON ((-553799.182 1558775.060, -553770.903...        19850102   \n",
      "37226   POLYGON ((-930167.584 1015161.268, -930139.305...        20020800   \n",
      "81186   POLYGON ((-917046.017 947540.429, -917017.738 ...        20050906   \n",
      "\n",
      "        year  ADM_left  WSFE_ID  index_right      DN_right gridstring_right  \\\n",
      "6859    1985       302    62055     238236.0  1.315040e+09       1315040302   \n",
      "40505   2000       800   245719     689288.0  4.096080e+07       0040960800   \n",
      "71309   2013       904   256907          NaN           NaN              NaN   \n",
      "4797    1999       301    61513     233835.0  6.797403e+08       0679740301   \n",
      "84116   2005      1002   108876     335354.0  3.819110e+08       0381911002   \n",
      "51177   2011       803   102519     326586.0  1.301208e+08       0130120803   \n",
      "161680  1999      1801    45971     216839.0  1.315072e+09       1315071801   \n",
      "1950    1985       102    19976          NaN           NaN              NaN   \n",
      "37226   2002       800   241170     689288.0  4.096080e+07       0040960800   \n",
      "81186   2005       906   256664     697830.0  3.160906e+06       0003160906   \n",
      "\n",
      "        GRID3_OID  ADM_right  GRID3_splitID  index_GN GeoName  index_Af  \\\n",
      "6859     131504.0      302.0       238236.0       NaN     NaN    2075.0   \n",
      "40505      4096.0      800.0       689288.0       NaN     NaN    7336.0   \n",
      "71309         NaN        NaN            NaN       NaN     NaN       NaN   \n",
      "4797      67974.0      301.0       233835.0       NaN     NaN    3622.0   \n",
      "84116     38191.0     1002.0       335354.0       NaN     NaN       NaN   \n",
      "51177     13012.0      803.0       326586.0       NaN     NaN       NaN   \n",
      "161680   131507.0     1801.0       216839.0       NaN     NaN    7237.0   \n",
      "1950          NaN        NaN            NaN       NaN     NaN    7598.0   \n",
      "37226      4096.0      800.0       689288.0       NaN     NaN    7336.0   \n",
      "81186       316.0      906.0       697830.0       NaN     NaN       NaN   \n",
      "\n",
      "                      Afpl_Name  index_UC         UCDB_Name  \n",
      "6859                   Mandelia       NaN               NaN  \n",
      "40505                   Moundou    3244.0           Moundou  \n",
      "71309                       NaN       NaN               NaN  \n",
      "4797                   Dourbali    3231.0  دوربالي Dourbali  \n",
      "84116                       NaN       NaN               NaN  \n",
      "51177                       NaN       NaN               NaN  \n",
      "161680  Ndjamena/Kousseri [TCD]    3185.0         N'Djamena  \n",
      "1950                 Oum Hadjer    3389.0         Umm Hajar  \n",
      "37226                   Moundou       NaN               NaN  \n",
      "81186                       NaN       NaN               NaN  \n"
     ]
    }
   ],
   "source": [
    "print(WSFE_GRID3.info(), \"\\n\\n\", WSFE_GRID3.sample(10))"
   ]
  },
  {
   "cell_type": "code",
   "execution_count": 35,
   "id": "a617fc07",
   "metadata": {},
   "outputs": [
    {
     "name": "stdout",
     "output_type": "stream",
     "text": [
      "53 75838 51484\n"
     ]
    }
   ],
   "source": [
    "print(WSFE_GRID3['GeoName'].count(), WSFE_GRID3['Afpl_Name'].count(), WSFE_GRID3['UCDB_Name'].count())"
   ]
  },
  {
   "cell_type": "code",
   "execution_count": 37,
   "id": "7dd49335",
   "metadata": {},
   "outputs": [
    {
     "name": "stdout",
     "output_type": "stream",
     "text": [
      "<class 'geopandas.geodataframe.GeoDataFrame'>\n",
      "Int64Index: 176310 entries, 0 to 176308\n",
      "Data columns (total 9 columns):\n",
      " #   Column         Non-Null Count   Dtype   \n",
      "---  ------         --------------   -----   \n",
      " 0   ADM            176310 non-null  int64   \n",
      " 1   geometry       176310 non-null  geometry\n",
      " 2   year           176310 non-null  int32   \n",
      " 3   WSFE_ID        176310 non-null  int64   \n",
      " 4   GRID3_OID      158851 non-null  float64 \n",
      " 5   GRID3_splitID  158851 non-null  float64 \n",
      " 6   GeoName        53 non-null      object  \n",
      " 7   Afpl_Name      75838 non-null   object  \n",
      " 8   UCDB_Name      51484 non-null   object  \n",
      "dtypes: float64(2), geometry(1), int32(1), int64(2), object(3)\n",
      "memory usage: 12.8+ MB\n",
      "None \n",
      "\n",
      "          ADM                                           geometry  year  \\\n",
      "163214  1801  POLYGON ((-1028126.871 1422390.325, -1028098.5...  2010   \n",
      "11015    303  POLYGON ((-784670.896 1188424.628, -784642.616...  2015   \n",
      "56595    804  POLYGON ((-904235.522 1061695.716, -904207.242...  1985   \n",
      "140874  1603  POLYGON ((-933504.535 1098123.134, -933447.976...  2000   \n",
      "5927     302  POLYGON ((-1024337.453 1412223.135, -1024252.6...  2014   \n",
      "447      101  POLYGON ((-694262.166 1550021.651, -694149.049...  2009   \n",
      "127372  1602  POLYGON ((-956410.719 1097100.399, -956382.440...  2015   \n",
      "109329  1302  POLYGON ((-654388.438 972627.520, -654360.159 ...  1999   \n",
      "143337  1603  POLYGON ((-937774.700 1084075.566, -937746.421...  1999   \n",
      "112630  1600  POLYGON ((-905310.133 1138731.734, -905281.853...  1999   \n",
      "\n",
      "        WSFE_ID  GRID3_OID  GRID3_splitID GeoName                Afpl_Name  \\\n",
      "163214    47558   131507.0       216839.0     NaN  Ndjamena/Kousseri [TCD]   \n",
      "11015     69025    81231.0       280764.0     NaN                      NaN   \n",
      "56595    227382    25275.0       324188.0     NaN                   Benoye   \n",
      "140874    84844    32787.0       311165.0     NaN                      NaN   \n",
      "5927      58647   131507.0       220108.0     NaN                      NaN   \n",
      "447       20860   186498.0       133849.0     NaN                      Ati   \n",
      "127372    85838    13874.0       312860.0     NaN                     Kelo   \n",
      "109329   255488    40548.0       346744.0     NaN                      NaN   \n",
      "143337    90397    32775.0       316195.0     NaN                      NaN   \n",
      "112630   199831    31716.0       644367.0     NaN                      NaN   \n",
      "\n",
      "           UCDB_Name  \n",
      "163214           NaN  \n",
      "11015            NaN  \n",
      "56595            NaN  \n",
      "140874           NaN  \n",
      "5927             NaN  \n",
      "447              Ati  \n",
      "127372           NaN  \n",
      "109329  Moyenne Sido  \n",
      "143337           NaN  \n",
      "112630           NaN  \n"
     ]
    }
   ],
   "source": [
    "WSFE_GRID3 = WSFE_GRID3[['ADM', 'geometry', 'year', 'WSFE_ID', 'GRID3_OID', 'GRID3_splitID', 'GeoName', 'Afpl_Name', 'UCDB_Name']]\n",
    "print(WSFE_GRID3.info(), \"\\n\\n\", WSFE_GRID3.sample(10))"
   ]
  },
  {
   "cell_type": "code",
   "execution_count": 39,
   "id": "c4bb5d78",
   "metadata": {
    "scrolled": true
   },
   "outputs": [],
   "source": [
    "# Save intermediate files.\n",
    "WSFE_GRID3.to_file(driver='GPKG', filename='WSFE_GRID3.gpkg', layer='WSFE_GRID3')"
   ]
  },
  {
   "cell_type": "markdown",
   "id": "c1aca122",
   "metadata": {},
   "source": [
    "### 6. WSFE CUMULATIVE\n",
    "DISSOLVE BY YEAR SETS: Create separate feature layers of each cumulative year."
   ]
  },
  {
   "cell_type": "code",
   "execution_count": 3,
   "id": "801962dc",
   "metadata": {},
   "outputs": [
    {
     "name": "stdout",
     "output_type": "stream",
     "text": [
      "[1985, 1986, 1987, 1988, 1989, 1990, 1991, 1992, 1993, 1994, 1995, 1996, 1997, 1998, 1999, 2000, 2001, 2002, 2003, 2004, 2005, 2006, 2007, 2008, 2009, 2010, 2011, 2012, 2013, 2014, 2015] [1999, 2000, 2001, 2002, 2003, 2004, 2005, 2006, 2007, 2008, 2009, 2010, 2011, 2012, 2013, 2014, 2015]\n"
     ]
    }
   ],
   "source": [
    "def CreateList(r1, r2):\n",
    "    return [item for item in range(r1, r2+1)]\n",
    "\n",
    "CuStart, CuEnd = 1985, 2015\n",
    "StudyStart, StudyEnd = 1999, 2015\n",
    "\n",
    "AllCuYears = CreateList(CuStart, CuEnd)\n",
    "AllStudyYears = CreateList(StudyStart, StudyEnd)\n",
    "print(AllCuYears, AllStudyYears)"
   ]
  },
  {
   "cell_type": "code",
   "execution_count": 57,
   "id": "9f91d4fd",
   "metadata": {},
   "outputs": [
    {
     "name": "stdout",
     "output_type": "stream",
     "text": [
      "Subsetting to cumulative area for year: 1999. Mon Oct 10 20:24:52 2022\n",
      "\n",
      "Dissolving so that each unique settlement (GRID3_splitID) has a single cumulative WSFE feature. Mon Oct 10 20:24:52 2022\n",
      "\n"
     ]
    },
    {
     "name": "stderr",
     "output_type": "stream",
     "text": [
      "C:\\Users\\grace\\AppData\\Local\\Temp\\ipykernel_3436\\2203756569.py:3: FutureWarning: Boolean inputs to the `inclusive` argument are deprecated in favour of `both` or `neither`.\n",
      "  CuYearSet = WSFE_GRID3[WSFE_GRID3['year'].between(CuStart, item, inclusive=True)] # Inclusive parameter means we include the years 1985 and \"item\" rather than only between them.\n"
     ]
    },
    {
     "name": "stdout",
     "output_type": "stream",
     "text": [
      "Write to file. Mon Oct 10 20:25:05 2022\n",
      "\n",
      "Subsetting to cumulative area for year: 2000. Mon Oct 10 20:25:09 2022\n",
      "\n",
      "Dissolving so that each unique settlement (GRID3_splitID) has a single cumulative WSFE feature. Mon Oct 10 20:25:09 2022\n",
      "\n"
     ]
    },
    {
     "name": "stderr",
     "output_type": "stream",
     "text": [
      "C:\\Users\\grace\\AppData\\Local\\Temp\\ipykernel_3436\\2203756569.py:3: FutureWarning: Boolean inputs to the `inclusive` argument are deprecated in favour of `both` or `neither`.\n",
      "  CuYearSet = WSFE_GRID3[WSFE_GRID3['year'].between(CuStart, item, inclusive=True)] # Inclusive parameter means we include the years 1985 and \"item\" rather than only between them.\n"
     ]
    },
    {
     "name": "stdout",
     "output_type": "stream",
     "text": [
      "Write to file. Mon Oct 10 20:25:29 2022\n",
      "\n",
      "Subsetting to cumulative area for year: 2001. Mon Oct 10 20:25:33 2022\n",
      "\n",
      "Dissolving so that each unique settlement (GRID3_splitID) has a single cumulative WSFE feature. Mon Oct 10 20:25:33 2022\n",
      "\n"
     ]
    },
    {
     "name": "stderr",
     "output_type": "stream",
     "text": [
      "C:\\Users\\grace\\AppData\\Local\\Temp\\ipykernel_3436\\2203756569.py:3: FutureWarning: Boolean inputs to the `inclusive` argument are deprecated in favour of `both` or `neither`.\n",
      "  CuYearSet = WSFE_GRID3[WSFE_GRID3['year'].between(CuStart, item, inclusive=True)] # Inclusive parameter means we include the years 1985 and \"item\" rather than only between them.\n"
     ]
    },
    {
     "name": "stdout",
     "output_type": "stream",
     "text": [
      "Write to file. Mon Oct 10 20:25:52 2022\n",
      "\n",
      "Subsetting to cumulative area for year: 2002. Mon Oct 10 20:25:56 2022\n",
      "\n",
      "Dissolving so that each unique settlement (GRID3_splitID) has a single cumulative WSFE feature. Mon Oct 10 20:25:56 2022\n",
      "\n"
     ]
    },
    {
     "name": "stderr",
     "output_type": "stream",
     "text": [
      "C:\\Users\\grace\\AppData\\Local\\Temp\\ipykernel_3436\\2203756569.py:3: FutureWarning: Boolean inputs to the `inclusive` argument are deprecated in favour of `both` or `neither`.\n",
      "  CuYearSet = WSFE_GRID3[WSFE_GRID3['year'].between(CuStart, item, inclusive=True)] # Inclusive parameter means we include the years 1985 and \"item\" rather than only between them.\n"
     ]
    },
    {
     "name": "stdout",
     "output_type": "stream",
     "text": [
      "Write to file. Mon Oct 10 20:26:15 2022\n",
      "\n",
      "Subsetting to cumulative area for year: 2003. Mon Oct 10 20:26:20 2022\n",
      "\n",
      "Dissolving so that each unique settlement (GRID3_splitID) has a single cumulative WSFE feature. Mon Oct 10 20:26:20 2022\n",
      "\n"
     ]
    },
    {
     "name": "stderr",
     "output_type": "stream",
     "text": [
      "C:\\Users\\grace\\AppData\\Local\\Temp\\ipykernel_3436\\2203756569.py:3: FutureWarning: Boolean inputs to the `inclusive` argument are deprecated in favour of `both` or `neither`.\n",
      "  CuYearSet = WSFE_GRID3[WSFE_GRID3['year'].between(CuStart, item, inclusive=True)] # Inclusive parameter means we include the years 1985 and \"item\" rather than only between them.\n"
     ]
    },
    {
     "name": "stdout",
     "output_type": "stream",
     "text": [
      "Write to file. Mon Oct 10 20:26:40 2022\n",
      "\n",
      "Subsetting to cumulative area for year: 2004. Mon Oct 10 20:26:43 2022\n",
      "\n",
      "Dissolving so that each unique settlement (GRID3_splitID) has a single cumulative WSFE feature. Mon Oct 10 20:26:43 2022\n",
      "\n"
     ]
    },
    {
     "name": "stderr",
     "output_type": "stream",
     "text": [
      "C:\\Users\\grace\\AppData\\Local\\Temp\\ipykernel_3436\\2203756569.py:3: FutureWarning: Boolean inputs to the `inclusive` argument are deprecated in favour of `both` or `neither`.\n",
      "  CuYearSet = WSFE_GRID3[WSFE_GRID3['year'].between(CuStart, item, inclusive=True)] # Inclusive parameter means we include the years 1985 and \"item\" rather than only between them.\n"
     ]
    },
    {
     "name": "stdout",
     "output_type": "stream",
     "text": [
      "Write to file. Mon Oct 10 20:27:05 2022\n",
      "\n",
      "Subsetting to cumulative area for year: 2005. Mon Oct 10 20:27:08 2022\n",
      "\n",
      "Dissolving so that each unique settlement (GRID3_splitID) has a single cumulative WSFE feature. Mon Oct 10 20:27:08 2022\n",
      "\n"
     ]
    },
    {
     "name": "stderr",
     "output_type": "stream",
     "text": [
      "C:\\Users\\grace\\AppData\\Local\\Temp\\ipykernel_3436\\2203756569.py:3: FutureWarning: Boolean inputs to the `inclusive` argument are deprecated in favour of `both` or `neither`.\n",
      "  CuYearSet = WSFE_GRID3[WSFE_GRID3['year'].between(CuStart, item, inclusive=True)] # Inclusive parameter means we include the years 1985 and \"item\" rather than only between them.\n"
     ]
    },
    {
     "name": "stdout",
     "output_type": "stream",
     "text": [
      "Write to file. Mon Oct 10 20:27:24 2022\n",
      "\n",
      "Subsetting to cumulative area for year: 2006. Mon Oct 10 20:27:27 2022\n",
      "\n",
      "Dissolving so that each unique settlement (GRID3_splitID) has a single cumulative WSFE feature. Mon Oct 10 20:27:27 2022\n",
      "\n"
     ]
    },
    {
     "name": "stderr",
     "output_type": "stream",
     "text": [
      "C:\\Users\\grace\\AppData\\Local\\Temp\\ipykernel_3436\\2203756569.py:3: FutureWarning: Boolean inputs to the `inclusive` argument are deprecated in favour of `both` or `neither`.\n",
      "  CuYearSet = WSFE_GRID3[WSFE_GRID3['year'].between(CuStart, item, inclusive=True)] # Inclusive parameter means we include the years 1985 and \"item\" rather than only between them.\n"
     ]
    },
    {
     "name": "stdout",
     "output_type": "stream",
     "text": [
      "Write to file. Mon Oct 10 20:27:43 2022\n",
      "\n",
      "Subsetting to cumulative area for year: 2007. Mon Oct 10 20:27:47 2022\n",
      "\n",
      "Dissolving so that each unique settlement (GRID3_splitID) has a single cumulative WSFE feature. Mon Oct 10 20:27:47 2022\n",
      "\n"
     ]
    },
    {
     "name": "stderr",
     "output_type": "stream",
     "text": [
      "C:\\Users\\grace\\AppData\\Local\\Temp\\ipykernel_3436\\2203756569.py:3: FutureWarning: Boolean inputs to the `inclusive` argument are deprecated in favour of `both` or `neither`.\n",
      "  CuYearSet = WSFE_GRID3[WSFE_GRID3['year'].between(CuStart, item, inclusive=True)] # Inclusive parameter means we include the years 1985 and \"item\" rather than only between them.\n"
     ]
    },
    {
     "name": "stdout",
     "output_type": "stream",
     "text": [
      "Write to file. Mon Oct 10 20:28:05 2022\n",
      "\n",
      "Subsetting to cumulative area for year: 2008. Mon Oct 10 20:28:10 2022\n",
      "\n",
      "Dissolving so that each unique settlement (GRID3_splitID) has a single cumulative WSFE feature. Mon Oct 10 20:28:10 2022\n",
      "\n"
     ]
    },
    {
     "name": "stderr",
     "output_type": "stream",
     "text": [
      "C:\\Users\\grace\\AppData\\Local\\Temp\\ipykernel_3436\\2203756569.py:3: FutureWarning: Boolean inputs to the `inclusive` argument are deprecated in favour of `both` or `neither`.\n",
      "  CuYearSet = WSFE_GRID3[WSFE_GRID3['year'].between(CuStart, item, inclusive=True)] # Inclusive parameter means we include the years 1985 and \"item\" rather than only between them.\n"
     ]
    },
    {
     "name": "stdout",
     "output_type": "stream",
     "text": [
      "Write to file. Mon Oct 10 20:28:31 2022\n",
      "\n",
      "Subsetting to cumulative area for year: 2009. Mon Oct 10 20:28:34 2022\n",
      "\n",
      "Dissolving so that each unique settlement (GRID3_splitID) has a single cumulative WSFE feature. Mon Oct 10 20:28:34 2022\n",
      "\n"
     ]
    },
    {
     "name": "stderr",
     "output_type": "stream",
     "text": [
      "C:\\Users\\grace\\AppData\\Local\\Temp\\ipykernel_3436\\2203756569.py:3: FutureWarning: Boolean inputs to the `inclusive` argument are deprecated in favour of `both` or `neither`.\n",
      "  CuYearSet = WSFE_GRID3[WSFE_GRID3['year'].between(CuStart, item, inclusive=True)] # Inclusive parameter means we include the years 1985 and \"item\" rather than only between them.\n"
     ]
    },
    {
     "name": "stdout",
     "output_type": "stream",
     "text": [
      "Write to file. Mon Oct 10 20:28:57 2022\n",
      "\n",
      "Subsetting to cumulative area for year: 2010. Mon Oct 10 20:29:00 2022\n",
      "\n",
      "Dissolving so that each unique settlement (GRID3_splitID) has a single cumulative WSFE feature. Mon Oct 10 20:29:00 2022\n",
      "\n"
     ]
    },
    {
     "name": "stderr",
     "output_type": "stream",
     "text": [
      "C:\\Users\\grace\\AppData\\Local\\Temp\\ipykernel_3436\\2203756569.py:3: FutureWarning: Boolean inputs to the `inclusive` argument are deprecated in favour of `both` or `neither`.\n",
      "  CuYearSet = WSFE_GRID3[WSFE_GRID3['year'].between(CuStart, item, inclusive=True)] # Inclusive parameter means we include the years 1985 and \"item\" rather than only between them.\n"
     ]
    },
    {
     "name": "stdout",
     "output_type": "stream",
     "text": [
      "Write to file. Mon Oct 10 20:29:17 2022\n",
      "\n",
      "Subsetting to cumulative area for year: 2011. Mon Oct 10 20:29:22 2022\n",
      "\n",
      "Dissolving so that each unique settlement (GRID3_splitID) has a single cumulative WSFE feature. Mon Oct 10 20:29:22 2022\n",
      "\n"
     ]
    },
    {
     "name": "stderr",
     "output_type": "stream",
     "text": [
      "C:\\Users\\grace\\AppData\\Local\\Temp\\ipykernel_3436\\2203756569.py:3: FutureWarning: Boolean inputs to the `inclusive` argument are deprecated in favour of `both` or `neither`.\n",
      "  CuYearSet = WSFE_GRID3[WSFE_GRID3['year'].between(CuStart, item, inclusive=True)] # Inclusive parameter means we include the years 1985 and \"item\" rather than only between them.\n"
     ]
    },
    {
     "name": "stdout",
     "output_type": "stream",
     "text": [
      "Write to file. Mon Oct 10 20:29:45 2022\n",
      "\n",
      "Subsetting to cumulative area for year: 2012. Mon Oct 10 20:29:47 2022\n",
      "\n",
      "Dissolving so that each unique settlement (GRID3_splitID) has a single cumulative WSFE feature. Mon Oct 10 20:29:48 2022\n",
      "\n"
     ]
    },
    {
     "name": "stderr",
     "output_type": "stream",
     "text": [
      "C:\\Users\\grace\\AppData\\Local\\Temp\\ipykernel_3436\\2203756569.py:3: FutureWarning: Boolean inputs to the `inclusive` argument are deprecated in favour of `both` or `neither`.\n",
      "  CuYearSet = WSFE_GRID3[WSFE_GRID3['year'].between(CuStart, item, inclusive=True)] # Inclusive parameter means we include the years 1985 and \"item\" rather than only between them.\n"
     ]
    },
    {
     "name": "stdout",
     "output_type": "stream",
     "text": [
      "Write to file. Mon Oct 10 20:30:06 2022\n",
      "\n",
      "Subsetting to cumulative area for year: 2013. Mon Oct 10 20:30:08 2022\n",
      "\n",
      "Dissolving so that each unique settlement (GRID3_splitID) has a single cumulative WSFE feature. Mon Oct 10 20:30:08 2022\n",
      "\n"
     ]
    },
    {
     "name": "stderr",
     "output_type": "stream",
     "text": [
      "C:\\Users\\grace\\AppData\\Local\\Temp\\ipykernel_3436\\2203756569.py:3: FutureWarning: Boolean inputs to the `inclusive` argument are deprecated in favour of `both` or `neither`.\n",
      "  CuYearSet = WSFE_GRID3[WSFE_GRID3['year'].between(CuStart, item, inclusive=True)] # Inclusive parameter means we include the years 1985 and \"item\" rather than only between them.\n"
     ]
    },
    {
     "name": "stdout",
     "output_type": "stream",
     "text": [
      "Write to file. Mon Oct 10 20:30:30 2022\n",
      "\n",
      "Subsetting to cumulative area for year: 2014. Mon Oct 10 20:30:34 2022\n",
      "\n",
      "Dissolving so that each unique settlement (GRID3_splitID) has a single cumulative WSFE feature. Mon Oct 10 20:30:34 2022\n",
      "\n"
     ]
    },
    {
     "name": "stderr",
     "output_type": "stream",
     "text": [
      "C:\\Users\\grace\\AppData\\Local\\Temp\\ipykernel_3436\\2203756569.py:3: FutureWarning: Boolean inputs to the `inclusive` argument are deprecated in favour of `both` or `neither`.\n",
      "  CuYearSet = WSFE_GRID3[WSFE_GRID3['year'].between(CuStart, item, inclusive=True)] # Inclusive parameter means we include the years 1985 and \"item\" rather than only between them.\n"
     ]
    },
    {
     "name": "stdout",
     "output_type": "stream",
     "text": [
      "Write to file. Mon Oct 10 20:30:57 2022\n",
      "\n",
      "Subsetting to cumulative area for year: 2015. Mon Oct 10 20:31:01 2022\n",
      "\n",
      "Dissolving so that each unique settlement (GRID3_splitID) has a single cumulative WSFE feature. Mon Oct 10 20:31:01 2022\n",
      "\n"
     ]
    },
    {
     "name": "stderr",
     "output_type": "stream",
     "text": [
      "C:\\Users\\grace\\AppData\\Local\\Temp\\ipykernel_3436\\2203756569.py:3: FutureWarning: Boolean inputs to the `inclusive` argument are deprecated in favour of `both` or `neither`.\n",
      "  CuYearSet = WSFE_GRID3[WSFE_GRID3['year'].between(CuStart, item, inclusive=True)] # Inclusive parameter means we include the years 1985 and \"item\" rather than only between them.\n"
     ]
    },
    {
     "name": "stdout",
     "output_type": "stream",
     "text": [
      "Write to file. Mon Oct 10 20:31:24 2022\n",
      "\n",
      "Done with all years in set. Mon Oct 10 20:31:27 2022\n"
     ]
    }
   ],
   "source": [
    "for item in AllStudyYears:\n",
    "    print('Subsetting to cumulative area for year: %s. %s\\n' % (item, time.ctime()))\n",
    "    CuYearSet = WSFE_GRID3[WSFE_GRID3['year'].between(CuStart, item, inclusive=True)] # Inclusive parameter means we include the years 1985 and \"item\" rather than only between them.\n",
    "    print('Dissolving so that each unique settlement (GRID3_splitID) has a single cumulative WSFE feature. %s\\n' % time.ctime())\n",
    "    CuYearDissolve = CuYearSet.dissolve(by='GRID3_splitID', \n",
    "                                        aggfunc={\"year\": \"max\", \"WSFE_ID\":\"min\", \"GRID3_OID\":\"min\", \n",
    "                                                 \"GeoName\":\"first\", \"Afpl_Name\":\"first\", \"UCDB_Name\":\"first\"},)\n",
    "    print('Write to file. %s\\n' % time.ctime())\n",
    "    CuYearName = ''.join(['Cu', str(item)])\n",
    "    CuYearDissolve.to_file(driver='GPKG', filename='WSFE_CuDissolve.gpkg', layer=CuYearName)\n",
    "    del CuYearSet, CuYearDissolve\n",
    "print(\"Done with all years in set. %s\" % time.ctime())"
   ]
  },
  {
   "cell_type": "markdown",
   "id": "e0ff5cec",
   "metadata": {},
   "source": [
    "---"
   ]
  },
  {
   "cell_type": "markdown",
   "id": "e3543e19",
   "metadata": {},
   "source": [
    "### Associating yearly datasets. (next notebook)\n",
    "\n",
    "##### SETTLEMENT EXTENTS BY YEAR\n",
    "\n",
    "Concatenate for cumulative year versions.\n",
    "\n",
    "##### THIESSEN (VORONOI) POLYGONS\n",
    "\n",
    "For each year, demarcate the surrounding space which is closest to a particular feature than to any other feature in the year set.\n",
    "\n",
    "##### BUFFER\n",
    "\n",
    "Buffer area of each built-up polygon and use that buffer to clip the Thiessen areas.\n",
    "\n",
    "##### MASK\n",
    "\n",
    "Use the buffered Thiessen polygons to reduce the raster size and limit the area included in the zonal stats.\n",
    "\n",
    "##### ZONAL STATISTICS\n",
    "\n",
    "Summarize raster data by the buffered Thiessen polygons."
   ]
  },
  {
   "cell_type": "markdown",
   "id": "bcb93aaf",
   "metadata": {},
   "source": [
    "#### Input datasets"
   ]
  },
  {
   "cell_type": "code",
   "execution_count": 4,
   "id": "5632212c",
   "metadata": {
    "scrolled": true
   },
   "outputs": [
    {
     "name": "stdout",
     "output_type": "stream",
     "text": [
      "['Cu1985', 'Cu1986', 'Cu1987', 'Cu1988', 'Cu1989', 'Cu1990', 'Cu1991', 'Cu1992', 'Cu1993', 'Cu1994', 'Cu1995', 'Cu1996', 'Cu1997', 'Cu1998', 'Cu1999', 'Cu2000', 'Cu2001', 'Cu2002', 'Cu2003', 'Cu2004', 'Cu2005', 'Cu2006', 'Cu2007', 'Cu2008', 'Cu2009', 'Cu2010', 'Cu2011', 'Cu2012', 'Cu2013', 'Cu2014', 'Cu2015']\n"
     ]
    }
   ],
   "source": [
    "BuiltAreaList = fiona.listlayers(\"WSFE_CuDissolve.gpkg\")\n",
    "print(BuiltAreaList)"
   ]
  },
  {
   "cell_type": "code",
   "execution_count": 5,
   "id": "c37cff2a",
   "metadata": {},
   "outputs": [
    {
     "name": "stdout",
     "output_type": "stream",
     "text": [
      "<class 'geopandas.geodataframe.GeoDataFrame'>\n",
      "RangeIndex: 70 entries, 0 to 69\n",
      "Data columns (total 7 columns):\n",
      " #   Column     Non-Null Count  Dtype   \n",
      "---  ------     --------------  -----   \n",
      " 0   ADM0_CODE  70 non-null     int64   \n",
      " 1   ADM0_NAME  70 non-null     object  \n",
      " 2   ADM1_CODE  70 non-null     int64   \n",
      " 3   ADM1_NAME  70 non-null     object  \n",
      " 4   ADM2_CODE  70 non-null     int64   \n",
      " 5   ADM2_NAME  70 non-null     object  \n",
      " 6   geometry   70 non-null     geometry\n",
      "dtypes: geometry(1), int64(3), object(3)\n",
      "memory usage: 4.0+ KB\n",
      "None\n",
      "PROJCS[\"Africa_Albers_Equal_Area_Conic\",GEOGCS[\"WGS 84\",DATUM[\"WGS_1984\",SPHEROID[\"WGS 84\",6378137,298.257223563,AUTHORITY[\"EPSG\",\"7030\"]],AUTHORITY[\"EPSG\",\"6326\"]],PRIMEM[\"Greenwich\",0,AUTHORITY[\"EPSG\",\"8901\"]],UNIT[\"degree\",0.0174532925199433,AUTHORITY[\"EPSG\",\"9122\"]],AUTHORITY[\"EPSG\",\"4326\"]],PROJECTION[\"Albers_Conic_Equal_Area\"],PARAMETER[\"latitude_of_center\",0],PARAMETER[\"longitude_of_center\",25],PARAMETER[\"standard_parallel_1\",20],PARAMETER[\"standard_parallel_2\",-23],PARAMETER[\"false_easting\",0],PARAMETER[\"false_northing\",0],UNIT[\"metre\",1,AUTHORITY[\"EPSG\",\"9001\"]],AXIS[\"Easting\",EAST],AXIS[\"Northing\",NORTH],AUTHORITY[\"ESRI\",\"102022\"]]\n"
     ]
    }
   ],
   "source": [
    "Boundary = gpd.read_file('TCD_ADM2.shp')#; Boundary.crs = \"ESRI:102022\"\n",
    "print(Boundary.info())\n",
    "print(Boundary.crs)"
   ]
  },
  {
   "cell_type": "code",
   "execution_count": 49,
   "id": "84bd0525",
   "metadata": {},
   "outputs": [
    {
     "name": "stdout",
     "output_type": "stream",
     "text": [
      "[<xarray.DataArray (band: 1, y: 19698, x: 11966)>\n",
      "[235706268 values with dtype=float32]\n",
      "Coordinates:\n",
      "  * band         (band) int32 1\n",
      "  * x            (x) float64 -1.208e+06 -1.208e+06 ... -1.039e+05 -1.038e+05\n",
      "  * y            (y) float64 2.694e+06 2.694e+06 ... 8.768e+05 8.767e+05\n",
      "    spatial_ref  int32 0\n",
      "Attributes:\n",
      "    AREA_OR_POINT:  Area\n",
      "    scale_factor:   1.0\n",
      "    add_offset:     0.0, <xarray.DataArray (band: 1, y: 19698, x: 11966)>\n",
      "[235706268 values with dtype=float32]\n",
      "Coordinates:\n",
      "  * band         (band) int32 1\n",
      "  * x            (x) float64 -1.208e+06 -1.208e+06 ... -1.039e+05 -1.038e+05\n",
      "  * y            (y) float64 2.694e+06 2.694e+06 ... 8.768e+05 8.767e+05\n",
      "    spatial_ref  int32 0\n",
      "Attributes:\n",
      "    AREA_OR_POINT:  Area\n",
      "    scale_factor:   1.0\n",
      "    add_offset:     0.0, <xarray.DataArray (band: 1, y: 19698, x: 11966)>\n",
      "[235706268 values with dtype=float32]\n",
      "Coordinates:\n",
      "  * band         (band) int32 1\n",
      "  * x            (x) float64 -1.208e+06 -1.208e+06 ... -1.039e+05 -1.038e+05\n",
      "  * y            (y) float64 2.694e+06 2.694e+06 ... 8.768e+05 8.767e+05\n",
      "    spatial_ref  int32 0\n",
      "Attributes:\n",
      "    AREA_OR_POINT:  Area\n",
      "    scale_factor:   1.0\n",
      "    add_offset:     0.0, <xarray.DataArray (band: 1, y: 19698, x: 11966)>\n",
      "[235706268 values with dtype=float32]\n",
      "Coordinates:\n",
      "  * band         (band) int32 1\n",
      "  * x            (x) float64 -1.208e+06 -1.208e+06 ... -1.039e+05 -1.038e+05\n",
      "  * y            (y) float64 2.694e+06 2.694e+06 ... 8.768e+05 8.767e+05\n",
      "    spatial_ref  int32 0\n",
      "Attributes:\n",
      "    AREA_OR_POINT:  Area\n",
      "    scale_factor:   1.0\n",
      "    add_offset:     0.0, <xarray.DataArray (band: 1, y: 19698, x: 11966)>\n",
      "[235706268 values with dtype=float32]\n",
      "Coordinates:\n",
      "  * band         (band) int32 1\n",
      "  * x            (x) float64 -1.208e+06 -1.208e+06 ... -1.039e+05 -1.038e+05\n",
      "  * y            (y) float64 2.694e+06 2.694e+06 ... 8.768e+05 8.767e+05\n",
      "    spatial_ref  int32 0\n",
      "Attributes:\n",
      "    AREA_OR_POINT:  Area\n",
      "    scale_factor:   1.0\n",
      "    add_offset:     0.0, <xarray.DataArray (band: 1, y: 19698, x: 11966)>\n",
      "[235706268 values with dtype=float32]\n",
      "Coordinates:\n",
      "  * band         (band) int32 1\n",
      "  * x            (x) float64 -1.208e+06 -1.208e+06 ... -1.039e+05 -1.038e+05\n",
      "  * y            (y) float64 2.694e+06 2.694e+06 ... 8.768e+05 8.767e+05\n",
      "    spatial_ref  int32 0\n",
      "Attributes:\n",
      "    AREA_OR_POINT:  Area\n",
      "    scale_factor:   1.0\n",
      "    add_offset:     0.0, <xarray.DataArray (band: 1, y: 19698, x: 11966)>\n",
      "[235706268 values with dtype=float32]\n",
      "Coordinates:\n",
      "  * band         (band) int32 1\n",
      "  * x            (x) float64 -1.208e+06 -1.208e+06 ... -1.039e+05 -1.038e+05\n",
      "  * y            (y) float64 2.694e+06 2.694e+06 ... 8.768e+05 8.767e+05\n",
      "    spatial_ref  int32 0\n",
      "Attributes:\n",
      "    AREA_OR_POINT:  Area\n",
      "    scale_factor:   1.0\n",
      "    add_offset:     0.0, <xarray.DataArray (band: 1, y: 19698, x: 11966)>\n",
      "[235706268 values with dtype=float32]\n",
      "Coordinates:\n",
      "  * band         (band) int32 1\n",
      "  * x            (x) float64 -1.208e+06 -1.208e+06 ... -1.039e+05 -1.038e+05\n",
      "  * y            (y) float64 2.694e+06 2.694e+06 ... 8.768e+05 8.767e+05\n",
      "    spatial_ref  int32 0\n",
      "Attributes:\n",
      "    AREA_OR_POINT:  Area\n",
      "    scale_factor:   1.0\n",
      "    add_offset:     0.0, <xarray.DataArray (band: 1, y: 19698, x: 11966)>\n",
      "[235706268 values with dtype=float32]\n",
      "Coordinates:\n",
      "  * band         (band) int32 1\n",
      "  * x            (x) float64 -1.208e+06 -1.208e+06 ... -1.039e+05 -1.038e+05\n",
      "  * y            (y) float64 2.694e+06 2.694e+06 ... 8.768e+05 8.767e+05\n",
      "    spatial_ref  int32 0\n",
      "Attributes:\n",
      "    AREA_OR_POINT:  Area\n",
      "    scale_factor:   1.0\n",
      "    add_offset:     0.0, <xarray.DataArray (band: 1, y: 19698, x: 11966)>\n",
      "[235706268 values with dtype=float32]\n",
      "Coordinates:\n",
      "  * band         (band) int32 1\n",
      "  * x            (x) float64 -1.208e+06 -1.208e+06 ... -1.039e+05 -1.038e+05\n",
      "  * y            (y) float64 2.694e+06 2.694e+06 ... 8.768e+05 8.767e+05\n",
      "    spatial_ref  int32 0\n",
      "Attributes:\n",
      "    AREA_OR_POINT:  Area\n",
      "    scale_factor:   1.0\n",
      "    add_offset:     0.0, <xarray.DataArray (band: 1, y: 19698, x: 11966)>\n",
      "[235706268 values with dtype=float32]\n",
      "Coordinates:\n",
      "  * band         (band) int32 1\n",
      "  * x            (x) float64 -1.208e+06 -1.208e+06 ... -1.039e+05 -1.038e+05\n",
      "  * y            (y) float64 2.694e+06 2.694e+06 ... 8.768e+05 8.767e+05\n",
      "    spatial_ref  int32 0\n",
      "Attributes:\n",
      "    AREA_OR_POINT:  Area\n",
      "    scale_factor:   1.0\n",
      "    add_offset:     0.0, <xarray.DataArray (band: 1, y: 19698, x: 11966)>\n",
      "[235706268 values with dtype=float32]\n",
      "Coordinates:\n",
      "  * band         (band) int32 1\n",
      "  * x            (x) float64 -1.208e+06 -1.208e+06 ... -1.039e+05 -1.038e+05\n",
      "  * y            (y) float64 2.694e+06 2.694e+06 ... 8.768e+05 8.767e+05\n",
      "    spatial_ref  int32 0\n",
      "Attributes:\n",
      "    AREA_OR_POINT:  Area\n",
      "    scale_factor:   1.0\n",
      "    add_offset:     0.0, <xarray.DataArray (band: 1, y: 19698, x: 11966)>\n",
      "[235706268 values with dtype=float32]\n",
      "Coordinates:\n",
      "  * band         (band) int32 1\n",
      "  * x            (x) float64 -1.208e+06 -1.208e+06 ... -1.039e+05 -1.038e+05\n",
      "  * y            (y) float64 2.694e+06 2.694e+06 ... 8.768e+05 8.767e+05\n",
      "    spatial_ref  int32 0\n",
      "Attributes:\n",
      "    AREA_OR_POINT:  Area\n",
      "    scale_factor:   1.0\n",
      "    add_offset:     0.0, <xarray.DataArray (band: 1, y: 19698, x: 11966)>\n",
      "[235706268 values with dtype=float32]\n",
      "Coordinates:\n",
      "  * band         (band) int32 1\n",
      "  * x            (x) float64 -1.208e+06 -1.208e+06 ... -1.039e+05 -1.038e+05\n",
      "  * y            (y) float64 2.694e+06 2.694e+06 ... 8.768e+05 8.767e+05\n",
      "    spatial_ref  int32 0\n",
      "Attributes:\n",
      "    AREA_OR_POINT:  Area\n",
      "    scale_factor:   1.0\n",
      "    add_offset:     0.0, <xarray.DataArray (band: 1, y: 19698, x: 11966)>\n",
      "[235706268 values with dtype=float32]\n",
      "Coordinates:\n",
      "  * band         (band) int32 1\n",
      "  * x            (x) float64 -1.208e+06 -1.208e+06 ... -1.039e+05 -1.038e+05\n",
      "  * y            (y) float64 2.694e+06 2.694e+06 ... 8.768e+05 8.767e+05\n",
      "    spatial_ref  int32 0\n",
      "Attributes:\n",
      "    AREA_OR_POINT:  Area\n",
      "    scale_factor:   1.0\n",
      "    add_offset:     0.0, <xarray.DataArray (band: 1, y: 19698, x: 11966)>\n",
      "[235706268 values with dtype=float32]\n",
      "Coordinates:\n",
      "  * band         (band) int32 1\n",
      "  * x            (x) float64 -1.208e+06 -1.208e+06 ... -1.039e+05 -1.038e+05\n",
      "  * y            (y) float64 2.694e+06 2.694e+06 ... 8.768e+05 8.767e+05\n",
      "    spatial_ref  int32 0\n",
      "Attributes:\n",
      "    AREA_OR_POINT:  Area\n",
      "    scale_factor:   1.0\n",
      "    add_offset:     0.0]\n",
      "ESRI:102022\n",
      "ESRI:102022\n",
      "ESRI:102022\n",
      "ESRI:102022\n",
      "ESRI:102022\n",
      "ESRI:102022\n",
      "ESRI:102022\n",
      "ESRI:102022\n",
      "ESRI:102022\n",
      "ESRI:102022\n",
      "ESRI:102022\n",
      "ESRI:102022\n",
      "ESRI:102022\n",
      "ESRI:102022\n",
      "ESRI:102022\n",
      "ESRI:102022\n"
     ]
    }
   ],
   "source": [
    "PopRasterList = [rioxarray.open_rasterio(item, masked=True) \n",
    "                 for item in glob.glob(r'C:\\Users\\grace\\GIS\\povertyequity\\urban_growth\\TCD_WorldPop' \n",
    "                                       + '**/*.tif', recursive=True)] \n",
    "\n",
    "print(PopRasterList)\n",
    "\n",
    "for item in PopRasterList:\n",
    "    print(item.rio.crs) "
   ]
  },
  {
   "cell_type": "markdown",
   "id": "36fa6f31",
   "metadata": {},
   "source": [
    "#### Settlement extents by year (cumulative built areas)"
   ]
  },
  {
   "cell_type": "code",
   "execution_count": 59,
   "id": "2a69e967",
   "metadata": {},
   "outputs": [
    {
     "name": "stdout",
     "output_type": "stream",
     "text": [
      "<class 'geopandas.geodataframe.GeoDataFrame'>\n",
      "RangeIndex: 1619 entries, 0 to 1618\n",
      "Data columns (total 9 columns):\n",
      " #   Column         Non-Null Count  Dtype   \n",
      "---  ------         --------------  -----   \n",
      " 0   GRID3_splitID  1619 non-null   float64 \n",
      " 1   ADM            1619 non-null   int64   \n",
      " 2   year           1619 non-null   int64   \n",
      " 3   WSFE_ID        1619 non-null   int64   \n",
      " 4   GRID3_OID      1619 non-null   float64 \n",
      " 5   GeoName        34 non-null     object  \n",
      " 6   Afpl_Name      137 non-null    object  \n",
      " 7   UCDB_Name      68 non-null     object  \n",
      " 8   geometry       1619 non-null   geometry\n",
      "dtypes: float64(2), geometry(1), int64(3), object(3)\n",
      "memory usage: 114.0+ KB\n"
     ]
    }
   ],
   "source": [
    "CheckingContents = gpd.read_file(\"WSFE_CuDissolve.gpkg\", layer=5)\n",
    "CheckingContents.info() # We want our BuiltAllYears dataframe below to have the same fields as the pre-appended layers.\n",
    "del CheckingContents"
   ]
  },
  {
   "cell_type": "code",
   "execution_count": 6,
   "id": "560bc7ab",
   "metadata": {},
   "outputs": [
    {
     "name": "stdout",
     "output_type": "stream",
     "text": [
      "<class 'geopandas.geodataframe.GeoDataFrame'>\n",
      "Index: 0 entries\n",
      "Data columns (total 9 columns):\n",
      " #   Column         Non-Null Count  Dtype   \n",
      "---  ------         --------------  -----   \n",
      " 0   GRID3_splitID  0 non-null      object  \n",
      " 1   ADM            0 non-null      object  \n",
      " 2   year           0 non-null      object  \n",
      " 3   WSFE_ID        0 non-null      object  \n",
      " 4   GRID3_OID      0 non-null      object  \n",
      " 5   GeoName        0 non-null      object  \n",
      " 6   Afpl_Name      0 non-null      object  \n",
      " 7   UCDB_Name      0 non-null      object  \n",
      " 8   geometry       0 non-null      geometry\n",
      "dtypes: geometry(1), object(8)\n",
      "memory usage: 108.0+ bytes\n",
      "None\n",
      "ESRI:102022\n",
      "Empty GeoDataFrame\n",
      "Columns: [GRID3_splitID, ADM, year, WSFE_ID, GRID3_OID, GeoName, Afpl_Name, UCDB_Name, geometry]\n",
      "Index: []\n"
     ]
    }
   ],
   "source": [
    "BuiltAllYears = gpd.GeoDataFrame(\n",
    "    columns=['GRID3_splitID', 'ADM', 'year', 'WSFE_ID', 'GRID3_OID', 'GeoName', 'Afpl_Name', 'UCDB_Name', 'geometry'], \n",
    "    geometry='geometry', crs = \"ESRI:102022\")\n",
    "print(BuiltAllYears.info())\n",
    "print(BuiltAllYears.crs)\n",
    "print(BuiltAllYears.head())"
   ]
  },
  {
   "cell_type": "code",
   "execution_count": 7,
   "id": "2542c3e3",
   "metadata": {},
   "outputs": [
    {
     "data": {
      "text/html": [
       "<div>\n",
       "<style scoped>\n",
       "    .dataframe tbody tr th:only-of-type {\n",
       "        vertical-align: middle;\n",
       "    }\n",
       "\n",
       "    .dataframe tbody tr th {\n",
       "        vertical-align: top;\n",
       "    }\n",
       "\n",
       "    .dataframe thead th {\n",
       "        text-align: right;\n",
       "    }\n",
       "</style>\n",
       "<table border=\"1\" class=\"dataframe\">\n",
       "  <thead>\n",
       "    <tr style=\"text-align: right;\">\n",
       "      <th></th>\n",
       "      <th>GRID3_splitID</th>\n",
       "      <th>ADM</th>\n",
       "      <th>year</th>\n",
       "      <th>WSFE_ID</th>\n",
       "      <th>GRID3_OID</th>\n",
       "      <th>GeoName</th>\n",
       "      <th>Afpl_Name</th>\n",
       "      <th>UCDB_Name</th>\n",
       "      <th>geometry</th>\n",
       "      <th>CuYear</th>\n",
       "    </tr>\n",
       "  </thead>\n",
       "  <tbody>\n",
       "    <tr>\n",
       "      <th>381</th>\n",
       "      <td>268380.0</td>\n",
       "      <td>1103</td>\n",
       "      <td>1985</td>\n",
       "      <td>65153</td>\n",
       "      <td>65796.0</td>\n",
       "      <td>None</td>\n",
       "      <td>None</td>\n",
       "      <td>None</td>\n",
       "      <td>MULTIPOLYGON (((-940348.111 1263475.337, -9403...</td>\n",
       "      <td>1986</td>\n",
       "    </tr>\n",
       "    <tr>\n",
       "      <th>396</th>\n",
       "      <td>272656.0</td>\n",
       "      <td>1101</td>\n",
       "      <td>1985</td>\n",
       "      <td>65279</td>\n",
       "      <td>60383.0</td>\n",
       "      <td>None</td>\n",
       "      <td>None</td>\n",
       "      <td>None</td>\n",
       "      <td>MULTIPOLYGON (((-981692.359 1239561.384, -9816...</td>\n",
       "      <td>1991</td>\n",
       "    </tr>\n",
       "    <tr>\n",
       "      <th>547</th>\n",
       "      <td>300613.0</td>\n",
       "      <td>1602</td>\n",
       "      <td>1985</td>\n",
       "      <td>74780</td>\n",
       "      <td>14359.0</td>\n",
       "      <td>None</td>\n",
       "      <td>None</td>\n",
       "      <td>None</td>\n",
       "      <td>MULTIPOLYGON (((-955194.712 1122187.490, -9551...</td>\n",
       "      <td>1992</td>\n",
       "    </tr>\n",
       "    <tr>\n",
       "      <th>1028</th>\n",
       "      <td>337447.0</td>\n",
       "      <td>1002</td>\n",
       "      <td>1985</td>\n",
       "      <td>112834</td>\n",
       "      <td>38179.0</td>\n",
       "      <td>None</td>\n",
       "      <td>None</td>\n",
       "      <td>None</td>\n",
       "      <td>POLYGON ((-764309.843 1017657.945, -764309.843...</td>\n",
       "      <td>1991</td>\n",
       "    </tr>\n",
       "    <tr>\n",
       "      <th>863</th>\n",
       "      <td>322251.0</td>\n",
       "      <td>804</td>\n",
       "      <td>1985</td>\n",
       "      <td>97883</td>\n",
       "      <td>25393.0</td>\n",
       "      <td>None</td>\n",
       "      <td>None</td>\n",
       "      <td>None</td>\n",
       "      <td>MULTIPOLYGON (((-907770.427 1066237.863, -9077...</td>\n",
       "      <td>1998</td>\n",
       "    </tr>\n",
       "    <tr>\n",
       "      <th>230</th>\n",
       "      <td>199206.0</td>\n",
       "      <td>NaN</td>\n",
       "      <td>2005</td>\n",
       "      <td>28198</td>\n",
       "      <td>127723.0</td>\n",
       "      <td>None</td>\n",
       "      <td>None</td>\n",
       "      <td>None</td>\n",
       "      <td>MULTIPOLYGON (((-1039325.450 1441250.764, -103...</td>\n",
       "      <td>2005</td>\n",
       "    </tr>\n",
       "    <tr>\n",
       "      <th>1309</th>\n",
       "      <td>343781.0</td>\n",
       "      <td>NaN</td>\n",
       "      <td>1999</td>\n",
       "      <td>124932</td>\n",
       "      <td>4123.0</td>\n",
       "      <td>None</td>\n",
       "      <td>None</td>\n",
       "      <td>None</td>\n",
       "      <td>MULTIPOLYGON (((-954911.919 992901.739, -95496...</td>\n",
       "      <td>1999</td>\n",
       "    </tr>\n",
       "    <tr>\n",
       "      <th>1212</th>\n",
       "      <td>343502.0</td>\n",
       "      <td>1002</td>\n",
       "      <td>1994</td>\n",
       "      <td>124486</td>\n",
       "      <td>38088.0</td>\n",
       "      <td>None</td>\n",
       "      <td>None</td>\n",
       "      <td>None</td>\n",
       "      <td>MULTIPOLYGON (((-773048.128 993864.314, -77304...</td>\n",
       "      <td>1997</td>\n",
       "    </tr>\n",
       "    <tr>\n",
       "      <th>259</th>\n",
       "      <td>201387.0</td>\n",
       "      <td>NaN</td>\n",
       "      <td>1998</td>\n",
       "      <td>28458</td>\n",
       "      <td>131989.0</td>\n",
       "      <td>None</td>\n",
       "      <td>None</td>\n",
       "      <td>None</td>\n",
       "      <td>MULTIPOLYGON (((-1027080.539 1435776.123, -102...</td>\n",
       "      <td>2013</td>\n",
       "    </tr>\n",
       "    <tr>\n",
       "      <th>515</th>\n",
       "      <td>293468.0</td>\n",
       "      <td>NaN</td>\n",
       "      <td>2000</td>\n",
       "      <td>70346</td>\n",
       "      <td>91879.0</td>\n",
       "      <td>None</td>\n",
       "      <td>Alaroro</td>\n",
       "      <td>None</td>\n",
       "      <td>MULTIPOLYGON (((-617229.517 1142732.433, -6172...</td>\n",
       "      <td>2006</td>\n",
       "    </tr>\n",
       "    <tr>\n",
       "      <th>53</th>\n",
       "      <td>93616.0</td>\n",
       "      <td>NaN</td>\n",
       "      <td>2013</td>\n",
       "      <td>15306</td>\n",
       "      <td>212432.0</td>\n",
       "      <td>None</td>\n",
       "      <td>Farchana camp</td>\n",
       "      <td>None</td>\n",
       "      <td>MULTIPOLYGON (((-334833.028 1593307.410, -3348...</td>\n",
       "      <td>2015</td>\n",
       "    </tr>\n",
       "    <tr>\n",
       "      <th>1523</th>\n",
       "      <td>688254.0</td>\n",
       "      <td>800</td>\n",
       "      <td>1985</td>\n",
       "      <td>243012</td>\n",
       "      <td>4875.0</td>\n",
       "      <td>None</td>\n",
       "      <td>None</td>\n",
       "      <td>None</td>\n",
       "      <td>POLYGON ((-931977.456 1013175.959, -931949.177...</td>\n",
       "      <td>1985</td>\n",
       "    </tr>\n",
       "    <tr>\n",
       "      <th>1394</th>\n",
       "      <td>341713.0</td>\n",
       "      <td>NaN</td>\n",
       "      <td>2011</td>\n",
       "      <td>121805</td>\n",
       "      <td>424.0</td>\n",
       "      <td>None</td>\n",
       "      <td>Moundou</td>\n",
       "      <td>None</td>\n",
       "      <td>MULTIPOLYGON (((-930846.286 1004272.147, -9308...</td>\n",
       "      <td>2013</td>\n",
       "    </tr>\n",
       "    <tr>\n",
       "      <th>94</th>\n",
       "      <td>154343.0</td>\n",
       "      <td>NaN</td>\n",
       "      <td>1990</td>\n",
       "      <td>22514</td>\n",
       "      <td>143013.0</td>\n",
       "      <td>None</td>\n",
       "      <td>Massakory</td>\n",
       "      <td>None</td>\n",
       "      <td>POLYGON ((-967863.811 1521896.435, -967835.532...</td>\n",
       "      <td>2006</td>\n",
       "    </tr>\n",
       "    <tr>\n",
       "      <th>19</th>\n",
       "      <td>86965.0</td>\n",
       "      <td>702</td>\n",
       "      <td>1985</td>\n",
       "      <td>12934</td>\n",
       "      <td>146062.0</td>\n",
       "      <td>None</td>\n",
       "      <td>None</td>\n",
       "      <td>None</td>\n",
       "      <td>POLYGON ((-1000017.307 1601068.165, -1000017.3...</td>\n",
       "      <td>1986</td>\n",
       "    </tr>\n",
       "    <tr>\n",
       "      <th>601</th>\n",
       "      <td>300215.0</td>\n",
       "      <td>NaN</td>\n",
       "      <td>2000</td>\n",
       "      <td>74693</td>\n",
       "      <td>14364.0</td>\n",
       "      <td>None</td>\n",
       "      <td>None</td>\n",
       "      <td>None</td>\n",
       "      <td>POLYGON ((-962603.873 1123089.903, -962660.431...</td>\n",
       "      <td>2003</td>\n",
       "    </tr>\n",
       "    <tr>\n",
       "      <th>81</th>\n",
       "      <td>140584.0</td>\n",
       "      <td>NaN</td>\n",
       "      <td>2006</td>\n",
       "      <td>21628</td>\n",
       "      <td>164640.0</td>\n",
       "      <td>None</td>\n",
       "      <td>None</td>\n",
       "      <td>None</td>\n",
       "      <td>MULTIPOLYGON (((-756561.331 1541689.368, -7565...</td>\n",
       "      <td>2008</td>\n",
       "    </tr>\n",
       "    <tr>\n",
       "      <th>48</th>\n",
       "      <td>91456.0</td>\n",
       "      <td>NaN</td>\n",
       "      <td>2014</td>\n",
       "      <td>15089</td>\n",
       "      <td>145994.0</td>\n",
       "      <td>None</td>\n",
       "      <td>None</td>\n",
       "      <td>None</td>\n",
       "      <td>POLYGON ((-1014270.044 1596225.213, -1014270.0...</td>\n",
       "      <td>2014</td>\n",
       "    </tr>\n",
       "    <tr>\n",
       "      <th>593</th>\n",
       "      <td>302275.0</td>\n",
       "      <td>1303</td>\n",
       "      <td>1985</td>\n",
       "      <td>76520</td>\n",
       "      <td>91986.0</td>\n",
       "      <td>None</td>\n",
       "      <td>None</td>\n",
       "      <td>None</td>\n",
       "      <td>MULTIPOLYGON (((-624016.534 1117555.101, -6240...</td>\n",
       "      <td>1998</td>\n",
       "    </tr>\n",
       "    <tr>\n",
       "      <th>900</th>\n",
       "      <td>327078.0</td>\n",
       "      <td>802</td>\n",
       "      <td>1985</td>\n",
       "      <td>103402</td>\n",
       "      <td>2898.0</td>\n",
       "      <td>None</td>\n",
       "      <td>None</td>\n",
       "      <td>None</td>\n",
       "      <td>POLYGON ((-981098.495 1049874.101, -981098.495...</td>\n",
       "      <td>1989</td>\n",
       "    </tr>\n",
       "  </tbody>\n",
       "</table>\n",
       "</div>"
      ],
      "text/plain": [
       "      GRID3_splitID   ADM  year WSFE_ID  GRID3_OID GeoName      Afpl_Name  \\\n",
       "381        268380.0  1103  1985   65153    65796.0    None           None   \n",
       "396        272656.0  1101  1985   65279    60383.0    None           None   \n",
       "547        300613.0  1602  1985   74780    14359.0    None           None   \n",
       "1028       337447.0  1002  1985  112834    38179.0    None           None   \n",
       "863        322251.0   804  1985   97883    25393.0    None           None   \n",
       "230        199206.0   NaN  2005   28198   127723.0    None           None   \n",
       "1309       343781.0   NaN  1999  124932     4123.0    None           None   \n",
       "1212       343502.0  1002  1994  124486    38088.0    None           None   \n",
       "259        201387.0   NaN  1998   28458   131989.0    None           None   \n",
       "515        293468.0   NaN  2000   70346    91879.0    None        Alaroro   \n",
       "53          93616.0   NaN  2013   15306   212432.0    None  Farchana camp   \n",
       "1523       688254.0   800  1985  243012     4875.0    None           None   \n",
       "1394       341713.0   NaN  2011  121805      424.0    None        Moundou   \n",
       "94         154343.0   NaN  1990   22514   143013.0    None      Massakory   \n",
       "19          86965.0   702  1985   12934   146062.0    None           None   \n",
       "601        300215.0   NaN  2000   74693    14364.0    None           None   \n",
       "81         140584.0   NaN  2006   21628   164640.0    None           None   \n",
       "48          91456.0   NaN  2014   15089   145994.0    None           None   \n",
       "593        302275.0  1303  1985   76520    91986.0    None           None   \n",
       "900        327078.0   802  1985  103402     2898.0    None           None   \n",
       "\n",
       "     UCDB_Name                                           geometry CuYear  \n",
       "381       None  MULTIPOLYGON (((-940348.111 1263475.337, -9403...   1986  \n",
       "396       None  MULTIPOLYGON (((-981692.359 1239561.384, -9816...   1991  \n",
       "547       None  MULTIPOLYGON (((-955194.712 1122187.490, -9551...   1992  \n",
       "1028      None  POLYGON ((-764309.843 1017657.945, -764309.843...   1991  \n",
       "863       None  MULTIPOLYGON (((-907770.427 1066237.863, -9077...   1998  \n",
       "230       None  MULTIPOLYGON (((-1039325.450 1441250.764, -103...   2005  \n",
       "1309      None  MULTIPOLYGON (((-954911.919 992901.739, -95496...   1999  \n",
       "1212      None  MULTIPOLYGON (((-773048.128 993864.314, -77304...   1997  \n",
       "259       None  MULTIPOLYGON (((-1027080.539 1435776.123, -102...   2013  \n",
       "515       None  MULTIPOLYGON (((-617229.517 1142732.433, -6172...   2006  \n",
       "53        None  MULTIPOLYGON (((-334833.028 1593307.410, -3348...   2015  \n",
       "1523      None  POLYGON ((-931977.456 1013175.959, -931949.177...   1985  \n",
       "1394      None  MULTIPOLYGON (((-930846.286 1004272.147, -9308...   2013  \n",
       "94        None  POLYGON ((-967863.811 1521896.435, -967835.532...   2006  \n",
       "19        None  POLYGON ((-1000017.307 1601068.165, -1000017.3...   1986  \n",
       "601       None  POLYGON ((-962603.873 1123089.903, -962660.431...   2003  \n",
       "81        None  MULTIPOLYGON (((-756561.331 1541689.368, -7565...   2008  \n",
       "48        None  POLYGON ((-1014270.044 1596225.213, -1014270.0...   2014  \n",
       "593       None  MULTIPOLYGON (((-624016.534 1117555.101, -6240...   1998  \n",
       "900       None  POLYGON ((-981098.495 1049874.101, -981098.495...   1989  "
      ]
     },
     "execution_count": 7,
     "metadata": {},
     "output_type": "execute_result"
    }
   ],
   "source": [
    "for item in BuiltAreaList:\n",
    "    CuYear = re.sub(r'[^0-9]', '', item)\n",
    "    TempItem = gpd.read_file(\"WSFE_CuDissolve.gpkg\", layer=item)\n",
    "    TempItem[\"CuYear\"] = CuYear\n",
    "    BuiltAllYears = pd.concat([BuiltAllYears, TempItem])\n",
    "\n",
    "BuiltAllYears.to_file(driver=\"GPKG\", filename=\"WSFE_Cumulative_TCD.gpkg\", layer=\"WSFE_AllYears\")\n",
    "BuiltAllYears.sample(20)"
   ]
  },
  {
   "cell_type": "code",
   "execution_count": 8,
   "id": "e067720c",
   "metadata": {},
   "outputs": [
    {
     "name": "stdout",
     "output_type": "stream",
     "text": [
      "ESRI:102022\n"
     ]
    }
   ],
   "source": [
    "print(BuiltAllYears.crs)"
   ]
  },
  {
   "cell_type": "markdown",
   "id": "d0043501",
   "metadata": {},
   "source": [
    "#### Thiessen polygons (Voronoi polygons): For each year, demarcate the surrounding space which is closest to a particular feature than to any other feature in the year set.\n",
    "#### Then, buffer area of each built-up polygon and use that buffer to clip the Thiessen areas."
   ]
  },
  {
   "cell_type": "code",
   "execution_count": null,
   "id": "393374c1",
   "metadata": {},
   "outputs": [],
   "source": [
    "#If CRSs do not match:\n",
    "#PopRasterList = [item.rio.reproject_match(BuiltArea) for item in PopRasterList]\n",
    "#Boundary = Boundary.to_crs(BuiltArea.crs)"
   ]
  },
  {
   "cell_type": "code",
   "execution_count": 9,
   "id": "8485f24e",
   "metadata": {},
   "outputs": [
    {
     "name": "stdout",
     "output_type": "stream",
     "text": [
      "<class 'geopandas.geodataframe.GeoDataFrame'>\n",
      "Int64Index: 1 entries, 0 to 0\n",
      "Data columns (total 7 columns):\n",
      " #   Column     Non-Null Count  Dtype   \n",
      "---  ------     --------------  -----   \n",
      " 0   geometry   1 non-null      geometry\n",
      " 1   ADM0_CODE  1 non-null      int64   \n",
      " 2   ADM0_NAME  1 non-null      object  \n",
      " 3   ADM1_CODE  1 non-null      int64   \n",
      " 4   ADM1_NAME  1 non-null      object  \n",
      " 5   ADM2_CODE  1 non-null      int64   \n",
      " 6   ADM2_NAME  1 non-null      object  \n",
      "dtypes: geometry(1), int64(3), object(3)\n",
      "memory usage: 172.0+ bytes\n"
     ]
    }
   ],
   "source": [
    "Boundary = Boundary.dissolve()\n",
    "Boundary.info()"
   ]
  },
  {
   "cell_type": "code",
   "execution_count": null,
   "id": "81c0221e",
   "metadata": {},
   "outputs": [],
   "source": [
    "# AllStudyYears = CreateList(StudyStart, StudyEnd)"
   ]
  },
  {
   "cell_type": "code",
   "execution_count": 14,
   "id": "0ed1c15d",
   "metadata": {},
   "outputs": [
    {
     "name": "stdout",
     "output_type": "stream",
     "text": [
      "Loading layer 1999. Mon Oct 10 20:59:43 2022\n",
      "\n",
      "Create a buffer around the features in the original layer. Mon Oct 10 20:59:43 2022\n",
      "\n",
      "Buffered version finished and saved to file. Mon Oct 10 21:03:36 2022\n",
      "\n",
      "Loading layer 2000. Mon Oct 10 21:03:36 2022\n",
      "\n",
      "Create a buffer around the features in the original layer. Mon Oct 10 21:03:36 2022\n",
      "\n",
      "Buffered version finished and saved to file. Mon Oct 10 21:06:44 2022\n",
      "\n",
      "Loading layer 2001. Mon Oct 10 21:06:45 2022\n",
      "\n",
      "Create a buffer around the features in the original layer. Mon Oct 10 21:06:45 2022\n",
      "\n",
      "Buffered version finished and saved to file. Mon Oct 10 21:09:50 2022\n",
      "\n",
      "Loading layer 2002. Mon Oct 10 21:09:50 2022\n",
      "\n",
      "Create a buffer around the features in the original layer. Mon Oct 10 21:09:50 2022\n",
      "\n",
      "Buffered version finished and saved to file. Mon Oct 10 21:12:53 2022\n",
      "\n",
      "Loading layer 2003. Mon Oct 10 21:12:53 2022\n",
      "\n",
      "Create a buffer around the features in the original layer. Mon Oct 10 21:12:53 2022\n",
      "\n",
      "Buffered version finished and saved to file. Mon Oct 10 21:15:56 2022\n",
      "\n",
      "Loading layer 2004. Mon Oct 10 21:15:56 2022\n",
      "\n",
      "Create a buffer around the features in the original layer. Mon Oct 10 21:15:57 2022\n",
      "\n",
      "Buffered version finished and saved to file. Mon Oct 10 21:18:45 2022\n",
      "\n",
      "Loading layer 2005. Mon Oct 10 21:18:45 2022\n",
      "\n",
      "Create a buffer around the features in the original layer. Mon Oct 10 21:18:46 2022\n",
      "\n",
      "Buffered version finished and saved to file. Mon Oct 10 21:21:20 2022\n",
      "\n",
      "Loading layer 2006. Mon Oct 10 21:21:20 2022\n",
      "\n",
      "Create a buffer around the features in the original layer. Mon Oct 10 21:21:21 2022\n",
      "\n",
      "Buffered version finished and saved to file. Mon Oct 10 21:23:36 2022\n",
      "\n",
      "Loading layer 2007. Mon Oct 10 21:23:36 2022\n",
      "\n",
      "Create a buffer around the features in the original layer. Mon Oct 10 21:23:36 2022\n",
      "\n",
      "Buffered version finished and saved to file. Mon Oct 10 21:25:50 2022\n",
      "\n",
      "Loading layer 2008. Mon Oct 10 21:25:50 2022\n",
      "\n",
      "Create a buffer around the features in the original layer. Mon Oct 10 21:25:50 2022\n",
      "\n",
      "Buffered version finished and saved to file. Mon Oct 10 21:27:46 2022\n",
      "\n",
      "Loading layer 2009. Mon Oct 10 21:27:46 2022\n",
      "\n",
      "Create a buffer around the features in the original layer. Mon Oct 10 21:27:46 2022\n",
      "\n",
      "Buffered version finished and saved to file. Mon Oct 10 21:29:38 2022\n",
      "\n",
      "Loading layer 2010. Mon Oct 10 21:29:38 2022\n",
      "\n",
      "Create a buffer around the features in the original layer. Mon Oct 10 21:29:38 2022\n",
      "\n",
      "Buffered version finished and saved to file. Mon Oct 10 21:31:23 2022\n",
      "\n",
      "Loading layer 2011. Mon Oct 10 21:31:23 2022\n",
      "\n",
      "Create a buffer around the features in the original layer. Mon Oct 10 21:31:24 2022\n",
      "\n",
      "Buffered version finished and saved to file. Mon Oct 10 21:32:51 2022\n",
      "\n",
      "Loading layer 2012. Mon Oct 10 21:32:51 2022\n",
      "\n",
      "Create a buffer around the features in the original layer. Mon Oct 10 21:32:52 2022\n",
      "\n",
      "Buffered version finished and saved to file. Mon Oct 10 21:34:11 2022\n",
      "\n",
      "Loading layer 2013. Mon Oct 10 21:34:11 2022\n",
      "\n",
      "Create a buffer around the features in the original layer. Mon Oct 10 21:34:11 2022\n",
      "\n",
      "Buffered version finished and saved to file. Mon Oct 10 21:35:18 2022\n",
      "\n",
      "Loading layer 2014. Mon Oct 10 21:35:18 2022\n",
      "\n",
      "Create a buffer around the features in the original layer. Mon Oct 10 21:35:18 2022\n",
      "\n",
      "Buffered version finished and saved to file. Mon Oct 10 21:36:18 2022\n",
      "\n",
      "Loading layer 2015. Mon Oct 10 21:36:18 2022\n",
      "\n",
      "Create a buffer around the features in the original layer. Mon Oct 10 21:36:18 2022\n",
      "\n",
      "Buffered version finished and saved to file. Mon Oct 10 21:37:15 2022\n",
      "\n",
      "All years finished buffering. Mon Oct 10 21:37:15 2022\n"
     ]
    }
   ],
   "source": [
    "for item in AllStudyYears:\n",
    "    print('Loading layer %s. %s\\n' % (item, time.ctime()))\n",
    "    CuYear = ''.join(['Cu', str(item)])\n",
    "    Layer = gpd.read_file(\"WSFE_CuDissolve.gpkg\", layer=CuYear) # Read in the layer as a geodataframe.\n",
    "    print('Create a buffer around the features in the original layer. %s\\n' % time.ctime())\n",
    "    BufferLayer = Layer\n",
    "    BufferLayer['geometry'] = BufferLayer['geometry'].apply(make_valid) # This is a workaround for any null geometries.\n",
    "    BufferLayer['geometry'] = BufferLayer['geometry'].buffer(2000) # Create a 2km buffer around the original feature.\n",
    "    BufferLayer.to_file(driver='GPKG', filename='WSFE_Buffer.gpkg', layer=''.join(['Buff_', str(item)]))\n",
    "    print('Buffered version finished and saved to file. %s\\n' % time.ctime())\n",
    "    del CuYear, Layer, BufferLayer\n",
    "print(\"All years finished buffering. %s\" % time.ctime())"
   ]
  },
  {
   "cell_type": "code",
   "execution_count": 15,
   "id": "a70c7f6a",
   "metadata": {},
   "outputs": [
    {
     "name": "stdout",
     "output_type": "stream",
     "text": [
      "Loading layer 1999. Mon Oct 10 22:45:36 2022\n",
      "\n",
      "Loaded. Assigning year field. Mon Oct 10 22:45:37 2022\n",
      "\n",
      "Assigned. Drawing Thiessen (Voronoi) polygons using buffer as the bounding area. Mon Oct 10 22:45:37 2022\n",
      "\n"
     ]
    },
    {
     "name": "stderr",
     "output_type": "stream",
     "text": [
      "TopologyException: Input geom 1 is invalid: Self-intersection at -1208584.4164925045 1316968.232589456\n"
     ]
    },
    {
     "ename": "ValueError",
     "evalue": "Could not create Voronoi Diagram with the specified inputs.",
     "output_type": "error",
     "traceback": [
      "\u001b[1;31m---------------------------------------------------------------------------\u001b[0m",
      "\u001b[1;31mValueError\u001b[0m                                Traceback (most recent call last)",
      "File \u001b[1;32m~\\miniconda3\\envs\\geo\\lib\\site-packages\\shapely\\ops.py:236\u001b[0m, in \u001b[0;36mvoronoi_diagram\u001b[1;34m(geom, envelope, tolerance, edges)\u001b[0m\n\u001b[0;32m    235\u001b[0m \u001b[38;5;28;01mtry\u001b[39;00m:\n\u001b[1;32m--> 236\u001b[0m     result \u001b[38;5;241m=\u001b[39m \u001b[43mgeom_factory\u001b[49m\u001b[43m(\u001b[49m\u001b[43mfunc\u001b[49m\u001b[43m(\u001b[49m\u001b[43mgeom\u001b[49m\u001b[38;5;241;43m.\u001b[39;49m\u001b[43m_geom\u001b[49m\u001b[43m,\u001b[49m\u001b[43m \u001b[49m\u001b[43menvelope\u001b[49m\u001b[43m,\u001b[49m\u001b[43m \u001b[49m\u001b[43mtolerance\u001b[49m\u001b[43m,\u001b[49m\u001b[43m \u001b[49m\u001b[38;5;28;43mint\u001b[39;49m\u001b[43m(\u001b[49m\u001b[43medges\u001b[49m\u001b[43m)\u001b[49m\u001b[43m)\u001b[49m\u001b[43m)\u001b[49m\n\u001b[0;32m    237\u001b[0m \u001b[38;5;28;01mexcept\u001b[39;00m \u001b[38;5;167;01mValueError\u001b[39;00m:\n",
      "File \u001b[1;32m~\\miniconda3\\envs\\geo\\lib\\site-packages\\shapely\\geometry\\base.py:73\u001b[0m, in \u001b[0;36mgeom_factory\u001b[1;34m(g, parent)\u001b[0m\n\u001b[0;32m     72\u001b[0m \u001b[38;5;28;01mif\u001b[39;00m \u001b[38;5;129;01mnot\u001b[39;00m g:\n\u001b[1;32m---> 73\u001b[0m     \u001b[38;5;28;01mraise\u001b[39;00m \u001b[38;5;167;01mValueError\u001b[39;00m(\u001b[38;5;124m\"\u001b[39m\u001b[38;5;124mNo Shapely geometry can be created from null value\u001b[39m\u001b[38;5;124m\"\u001b[39m)\n\u001b[0;32m     74\u001b[0m ob \u001b[38;5;241m=\u001b[39m BaseGeometry()\n",
      "\u001b[1;31mValueError\u001b[0m: No Shapely geometry can be created from null value",
      "\nDuring handling of the above exception, another exception occurred:\n",
      "\u001b[1;31mValueError\u001b[0m                                Traceback (most recent call last)",
      "Cell \u001b[1;32mIn [15], line 9\u001b[0m\n\u001b[0;32m      7\u001b[0m Layer[\u001b[38;5;124m\"\u001b[39m\u001b[38;5;124mCuYear\u001b[39m\u001b[38;5;124m\"\u001b[39m] \u001b[38;5;241m=\u001b[39m item \u001b[38;5;66;03m# Give geodataframe a field where every value is the year of cumulative buildup represented by the layer. This will be useful if concatenating all the layers together into a single dataset.\u001b[39;00m\n\u001b[0;32m      8\u001b[0m \u001b[38;5;28mprint\u001b[39m(\u001b[38;5;124m'\u001b[39m\u001b[38;5;124mAssigned. Drawing Thiessen (Voronoi) polygons using buffer as the bounding area. \u001b[39m\u001b[38;5;132;01m%s\u001b[39;00m\u001b[38;5;130;01m\\n\u001b[39;00m\u001b[38;5;124m'\u001b[39m \u001b[38;5;241m%\u001b[39m time\u001b[38;5;241m.\u001b[39mctime())\n\u001b[1;32m----> 9\u001b[0m ThiessenLayer \u001b[38;5;241m=\u001b[39m \u001b[43mvoronoiDiagram4plg\u001b[49m\u001b[43m(\u001b[49m\u001b[43mLayer\u001b[49m\u001b[43m,\u001b[49m\u001b[43m \u001b[49m\u001b[43mBuffer\u001b[49m\u001b[43m)\u001b[49m \u001b[38;5;66;03m# Demarcate the area around each feature which is closer to that feature than any other feature.\u001b[39;00m\n\u001b[0;32m     10\u001b[0m ThiessenLayer\u001b[38;5;241m.\u001b[39mto_file(driver\u001b[38;5;241m=\u001b[39m\u001b[38;5;124m'\u001b[39m\u001b[38;5;124mGPKG\u001b[39m\u001b[38;5;124m'\u001b[39m, filename\u001b[38;5;241m=\u001b[39m\u001b[38;5;124m'\u001b[39m\u001b[38;5;124mWSFE_ThiessenBuffer.gpkg\u001b[39m\u001b[38;5;124m'\u001b[39m, layer\u001b[38;5;241m=\u001b[39m\u001b[38;5;124m'\u001b[39m\u001b[38;5;124m'\u001b[39m\u001b[38;5;241m.\u001b[39mjoin([\u001b[38;5;124m'\u001b[39m\u001b[38;5;124mThBuff_\u001b[39m\u001b[38;5;124m'\u001b[39m, \u001b[38;5;28mstr\u001b[39m(item)]))\n\u001b[0;32m     11\u001b[0m \u001b[38;5;28mprint\u001b[39m(\u001b[38;5;124m'\u001b[39m\u001b[38;5;124mPolygons drawn and written to file. \u001b[39m\u001b[38;5;132;01m%s\u001b[39;00m\u001b[38;5;130;01m\\n\u001b[39;00m\u001b[38;5;124m'\u001b[39m \u001b[38;5;241m%\u001b[39m time\u001b[38;5;241m.\u001b[39mctime())\n",
      "File \u001b[1;32m~\\miniconda3\\envs\\geo\\lib\\site-packages\\longsgis\\longsgis.py:29\u001b[0m, in \u001b[0;36mvoronoiDiagram4plg\u001b[1;34m(gdf, mask)\u001b[0m\n\u001b[0;32m     27\u001b[0m smp \u001b[38;5;241m=\u001b[39m gdf\u001b[38;5;241m.\u001b[39munary_union\n\u001b[0;32m     28\u001b[0m \u001b[38;5;66;03m#create primary voronoi diagram by invoking shapely.ops.voronoi_diagram (new in Shapely 1.8.dev0)\u001b[39;00m\n\u001b[1;32m---> 29\u001b[0m smp_vd \u001b[38;5;241m=\u001b[39m \u001b[43msvd\u001b[49m\u001b[43m(\u001b[49m\u001b[43msmp\u001b[49m\u001b[43m)\u001b[49m\n\u001b[0;32m     30\u001b[0m \u001b[38;5;66;03m#convert to GeoSeries and explode to single polygons\u001b[39;00m\n\u001b[0;32m     31\u001b[0m \u001b[38;5;66;03m#note that it is NOT supported to GeoDataFrame directly\u001b[39;00m\n\u001b[0;32m     32\u001b[0m gs \u001b[38;5;241m=\u001b[39m gpd\u001b[38;5;241m.\u001b[39mGeoSeries([smp_vd])\u001b[38;5;241m.\u001b[39mexplode()\n",
      "File \u001b[1;32m~\\miniconda3\\envs\\geo\\lib\\site-packages\\shapely\\ops.py:241\u001b[0m, in \u001b[0;36mvoronoi_diagram\u001b[1;34m(geom, envelope, tolerance, edges)\u001b[0m\n\u001b[0;32m    239\u001b[0m     \u001b[38;5;28;01mif\u001b[39;00m tolerance:\n\u001b[0;32m    240\u001b[0m         errstr \u001b[38;5;241m+\u001b[39m\u001b[38;5;241m=\u001b[39m \u001b[38;5;124m\"\u001b[39m\u001b[38;5;124m Try running again with default tolerance value.\u001b[39m\u001b[38;5;124m\"\u001b[39m\n\u001b[1;32m--> 241\u001b[0m     \u001b[38;5;28;01mraise\u001b[39;00m \u001b[38;5;167;01mValueError\u001b[39;00m(errstr)\n\u001b[0;32m    243\u001b[0m \u001b[38;5;28;01mif\u001b[39;00m result\u001b[38;5;241m.\u001b[39mtype \u001b[38;5;241m!=\u001b[39m \u001b[38;5;124m'\u001b[39m\u001b[38;5;124mGeometryCollection\u001b[39m\u001b[38;5;124m'\u001b[39m:\n\u001b[0;32m    244\u001b[0m     \u001b[38;5;28;01mreturn\u001b[39;00m GeometryCollection([result])\n",
      "\u001b[1;31mValueError\u001b[0m: Could not create Voronoi Diagram with the specified inputs."
     ]
    }
   ],
   "source": [
    "for item in AllStudyYears:\n",
    "    print('Loading layer %s. %s\\n' % (item, time.ctime()))\n",
    "    CuYear = ''.join(['Cu', str(item)])\n",
    "    Layer = gpd.read_file(\"WSFE_CuDissolve.gpkg\", layer=CuYear) # Read in the layer as a geodataframe.\n",
    "    Buffer = gpd.read_file(\"WSFE_Buffer.gpkg\", layer=''.join(['Buff_', str(item)]))\n",
    "    print('Loaded. Assigning year field. %s\\n' % time.ctime())\n",
    "    Layer[\"CuYear\"] = item # Give geodataframe a field where every value is the year of cumulative buildup represented by the layer. This will be useful if concatenating all the layers together into a single dataset.\n",
    "    print('Assigned. Drawing Thiessen (Voronoi) polygons using buffer as the bounding area. %s\\n' % time.ctime())\n",
    "    ThiessenLayer = voronoiDiagram4plg(Layer, Buffer) # Demarcate the area around each feature which is closer to that feature than any other feature.\n",
    "    ThiessenLayer.to_file(driver='GPKG', filename='WSFE_ThiessenBuffer.gpkg', layer=''.join(['ThBuff_', str(item)]))\n",
    "    print('Polygons drawn and written to file. %s\\n' % time.ctime())\n",
    "    del CuYear, Buffer, Layer, ThiessenLayer\n",
    "print(\"All years finished drawing near polygons. %s\" % time.ctime())"
   ]
  },
  {
   "cell_type": "code",
   "execution_count": null,
   "id": "df7d11cf",
   "metadata": {},
   "outputs": [],
   "source": [
    "for item in BuiltAreaList:\n",
    "    print('Loading Thiessen areas and buffered polygons from layer %s. %s\\n' % (item, time.ctime()))\n",
    "    CuYear = re.sub(r'[^0-9]', '', item) # Pull the year of feature layer (e.g. \"2005\") from the numeric portion of the layer name.\n",
    "    ThiessenLayer = gpd.read_file(filename=''.join(['Thies_', CuYear, '.shp'])) # Read in the layer as a geodataframe.\n",
    "    BufferLayer = gpd.read_file(filename=''.join(['Buff_', CuYear, '.shp']))\n",
    "    print('Now clipping the Thiessen polygons with the buffer. %s\\n' % time.ctime())\n",
    "    ThiessenBufferLayer = gpd.clip(ThiessenLayer, BufferLayer) # Clip the demarcated area so that coverage ends at the 2km mark. This will be both the mask used to reduce the file size of the population rasters, and the zones used to summarize the pop data during zonal statistics.\n",
    "    print('Clipped. Polygons did not retain feature attributes. Joining back on. %s\\n' % time.ctime())\n",
    "    ThiessenBufferLayer = ThiessenBufferLayer.merge(Layer, how='left', left_index=True, right_index=True) # Voronoi function does not retain the attributes (leaves them all Null for whatever reason). Just joining it all back together.\n",
    "    print('Finished! Writing to file. %s\\n' % time.ctime())\n",
    "    ThiessenBufferLayer.to_file(driver='ESRI Shapefile', filename=''.join(['ThBuf_', CuYear, '.shp']))\n",
    "    print(ThiessenBufferLayer.sample(5))\n",
    "    print('\\nNext layer. %s\\n' % time.ctime())\n",
    "    del CuYear, ThiessenLayer, BufferLayer, ThiessenBufferLayer"
   ]
  },
  {
   "cell_type": "markdown",
   "id": "fcedc010",
   "metadata": {},
   "source": [
    "#### Masking function to apply to each raster using each WSFE year"
   ]
  },
  {
   "cell_type": "code",
   "execution_count": null,
   "id": "5729b87b",
   "metadata": {},
   "outputs": [],
   "source": [
    "def masking_function(Raster, PolyMask): \n",
    "    RasterYear = int(str(Raster[8:12])) \n",
    "    PolyMaskYear = select(PolyMask[\"MAX_year\"] == RasterYear) \n",
    "    MaskedRaster = rastercalculator(Int(Raster * 100), mask=PolyMaskYear) \n",
    "return MaskedRaster "
   ]
  },
  {
   "cell_type": "code",
   "execution_count": null,
   "id": "78222c84",
   "metadata": {},
   "outputs": [],
   "source": [
    "MaskedRasterList = [masking_function(item, BuiltThiessenBuffer) for item in PopRasterList] \n",
    "print(MaskedRasterList)"
   ]
  },
  {
   "cell_type": "markdown",
   "id": "d80d705d",
   "metadata": {},
   "source": [
    "#### Zonal statistics"
   ]
  },
  {
   "cell_type": "code",
   "execution_count": null,
   "id": "567e8101",
   "metadata": {},
   "outputs": [],
   "source": []
  }
 ],
 "metadata": {
  "kernelspec": {
   "display_name": "Python 3 (ipykernel)",
   "language": "python",
   "name": "python3"
  },
  "language_info": {
   "codemirror_mode": {
    "name": "ipython",
    "version": 3
   },
   "file_extension": ".py",
   "mimetype": "text/x-python",
   "name": "python",
   "nbconvert_exporter": "python",
   "pygments_lexer": "ipython3",
   "version": "3.10.6"
  }
 },
 "nbformat": 4,
 "nbformat_minor": 5
}
